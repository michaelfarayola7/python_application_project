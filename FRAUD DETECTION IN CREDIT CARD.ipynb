{
 "cells": [
  {
   "cell_type": "markdown",
   "metadata": {},
   "source": [
    "\n",
    "# CREDIT CARD FRUAD DETECTION\n",
    "\n",
    "### Context\n",
    "\n",
    "It is important that credit card companies are able to recognize fraudulent credit card transactions so that customers are not charged for items that they did not purchase.\n",
    "\n",
    "### Content\n",
    "\n",
    "The datasets contains transactions made by credit cards in September 2013 by european cardholders. This dataset presents transactions that occurred in two days, where we have 492 frauds out of 284,807 transactions. The dataset is highly unbalanced, the positive class (frauds) account for 0.172% of all transactions.\n",
    "\n",
    "It contains only numerical input variables which are the result of a PCA transformation. Unfortunately, due to confidentiality issues, we cannot provide the original features and more background information about the data. Features V1, V2, … V28 are the principal components obtained with PCA, the only features which have not been transformed with PCA are 'Time' and 'Amount'. Feature 'Time' contains the seconds elapsed between each transaction and the first transaction in the dataset. The feature 'Amount' is the transaction Amount, this feature can be used for example-dependant cost-senstive learning. Feature 'Class' is the response variable and it takes value 1 in case of fraud and 0 otherwise.\n",
    "\n",
    "### Inspiration\n",
    "\n",
    "Identify fraudulent credit card transactions.\n",
    "\n",
    "Given the class imbalance ratio, we recommend measuring the accuracy using the Area Under the Precision-Recall Curve (AUPRC). Confusion matrix accuracy is not meaningful for unbalanced classification.\n"
   ]
  },
  {
   "cell_type": "code",
   "execution_count": 155,
   "metadata": {},
   "outputs": [],
   "source": [
    "# from pyforest import*\n",
    "# lazy_imports()"
   ]
  },
  {
   "cell_type": "code",
   "execution_count": 156,
   "metadata": {},
   "outputs": [],
   "source": [
    "#import libraries\n",
    "%matplotlib inline\n",
    "import scipy.stats as stats\n",
    "import numpy as np\n",
    "import pandas as pd\n",
    "import matplotlib.pyplot as plt\n",
    "import seaborn as sns\n",
    "from sklearn.preprocessing import StandardScaler\n",
    "from sklearn.model_selection import train_test_split\n",
    "from sklearn import linear_model\n",
    "from sklearn.model_selection import GridSearchCV\n",
    "from imblearn.under_sampling import RandomUnderSampler\n",
    "from sklearn import svm\n",
    "from sklearn.naive_bayes import GaussianNB\n",
    "from sklearn.ensemble import RandomForestClassifier\n",
    "from sklearn.dummy import DummyClassifier\n",
    "import sklearn.metrics as metrics\n",
    "from sklearn.metrics import precision_score, recall_score, precision_recall_curve,f1_score, fbeta_score, accuracy_score\n",
    "\n",
    "plt.style.use('ggplot')"
   ]
  },
  {
   "cell_type": "code",
   "execution_count": 49,
   "metadata": {},
   "outputs": [
    {
     "data": {
      "application/javascript": [
       "\n",
       "        if (window._pyforest_update_imports_cell) { window._pyforest_update_imports_cell('import pandas as pd\\nimport matplotlib.pyplot as plt\\nimport seaborn as sns\\nimport numpy as np\\nfrom sklearn.model_selection import train_test_split'); }\n",
       "    "
      ],
      "text/plain": [
       "<IPython.core.display.Javascript object>"
      ]
     },
     "metadata": {},
     "output_type": "display_data"
    }
   ],
   "source": [
    "plt.style.use('ggplot')"
   ]
  },
  {
   "cell_type": "code",
   "execution_count": 50,
   "metadata": {},
   "outputs": [
    {
     "data": {
      "application/javascript": [
       "\n",
       "        if (window._pyforest_update_imports_cell) { window._pyforest_update_imports_cell('import pandas as pd\\nimport matplotlib.pyplot as plt\\nimport seaborn as sns\\nimport numpy as np\\nfrom sklearn.model_selection import train_test_split'); }\n",
       "    "
      ],
      "text/plain": [
       "<IPython.core.display.Javascript object>"
      ]
     },
     "metadata": {},
     "output_type": "display_data"
    }
   ],
   "source": [
    "data = pd.read_csv(\"creditcard.csv\")"
   ]
  },
  {
   "cell_type": "code",
   "execution_count": 51,
   "metadata": {},
   "outputs": [
    {
     "data": {
      "text/html": [
       "<div>\n",
       "<style scoped>\n",
       "    .dataframe tbody tr th:only-of-type {\n",
       "        vertical-align: middle;\n",
       "    }\n",
       "\n",
       "    .dataframe tbody tr th {\n",
       "        vertical-align: top;\n",
       "    }\n",
       "\n",
       "    .dataframe thead th {\n",
       "        text-align: right;\n",
       "    }\n",
       "</style>\n",
       "<table border=\"1\" class=\"dataframe\">\n",
       "  <thead>\n",
       "    <tr style=\"text-align: right;\">\n",
       "      <th></th>\n",
       "      <th>Time</th>\n",
       "      <th>V1</th>\n",
       "      <th>V2</th>\n",
       "      <th>V3</th>\n",
       "      <th>V4</th>\n",
       "      <th>V5</th>\n",
       "      <th>V6</th>\n",
       "      <th>V7</th>\n",
       "      <th>V8</th>\n",
       "      <th>V9</th>\n",
       "      <th>...</th>\n",
       "      <th>V21</th>\n",
       "      <th>V22</th>\n",
       "      <th>V23</th>\n",
       "      <th>V24</th>\n",
       "      <th>V25</th>\n",
       "      <th>V26</th>\n",
       "      <th>V27</th>\n",
       "      <th>V28</th>\n",
       "      <th>Amount</th>\n",
       "      <th>Class</th>\n",
       "    </tr>\n",
       "  </thead>\n",
       "  <tbody>\n",
       "    <tr>\n",
       "      <th>0</th>\n",
       "      <td>0.0</td>\n",
       "      <td>-1.359807</td>\n",
       "      <td>-0.072781</td>\n",
       "      <td>2.536347</td>\n",
       "      <td>1.378155</td>\n",
       "      <td>-0.338321</td>\n",
       "      <td>0.462388</td>\n",
       "      <td>0.239599</td>\n",
       "      <td>0.098698</td>\n",
       "      <td>0.363787</td>\n",
       "      <td>...</td>\n",
       "      <td>-0.018307</td>\n",
       "      <td>0.277838</td>\n",
       "      <td>-0.110474</td>\n",
       "      <td>0.066928</td>\n",
       "      <td>0.128539</td>\n",
       "      <td>-0.189115</td>\n",
       "      <td>0.133558</td>\n",
       "      <td>-0.021053</td>\n",
       "      <td>149.62</td>\n",
       "      <td>0</td>\n",
       "    </tr>\n",
       "    <tr>\n",
       "      <th>1</th>\n",
       "      <td>0.0</td>\n",
       "      <td>1.191857</td>\n",
       "      <td>0.266151</td>\n",
       "      <td>0.166480</td>\n",
       "      <td>0.448154</td>\n",
       "      <td>0.060018</td>\n",
       "      <td>-0.082361</td>\n",
       "      <td>-0.078803</td>\n",
       "      <td>0.085102</td>\n",
       "      <td>-0.255425</td>\n",
       "      <td>...</td>\n",
       "      <td>-0.225775</td>\n",
       "      <td>-0.638672</td>\n",
       "      <td>0.101288</td>\n",
       "      <td>-0.339846</td>\n",
       "      <td>0.167170</td>\n",
       "      <td>0.125895</td>\n",
       "      <td>-0.008983</td>\n",
       "      <td>0.014724</td>\n",
       "      <td>2.69</td>\n",
       "      <td>0</td>\n",
       "    </tr>\n",
       "    <tr>\n",
       "      <th>2</th>\n",
       "      <td>1.0</td>\n",
       "      <td>-1.358354</td>\n",
       "      <td>-1.340163</td>\n",
       "      <td>1.773209</td>\n",
       "      <td>0.379780</td>\n",
       "      <td>-0.503198</td>\n",
       "      <td>1.800499</td>\n",
       "      <td>0.791461</td>\n",
       "      <td>0.247676</td>\n",
       "      <td>-1.514654</td>\n",
       "      <td>...</td>\n",
       "      <td>0.247998</td>\n",
       "      <td>0.771679</td>\n",
       "      <td>0.909412</td>\n",
       "      <td>-0.689281</td>\n",
       "      <td>-0.327642</td>\n",
       "      <td>-0.139097</td>\n",
       "      <td>-0.055353</td>\n",
       "      <td>-0.059752</td>\n",
       "      <td>378.66</td>\n",
       "      <td>0</td>\n",
       "    </tr>\n",
       "    <tr>\n",
       "      <th>3</th>\n",
       "      <td>1.0</td>\n",
       "      <td>-0.966272</td>\n",
       "      <td>-0.185226</td>\n",
       "      <td>1.792993</td>\n",
       "      <td>-0.863291</td>\n",
       "      <td>-0.010309</td>\n",
       "      <td>1.247203</td>\n",
       "      <td>0.237609</td>\n",
       "      <td>0.377436</td>\n",
       "      <td>-1.387024</td>\n",
       "      <td>...</td>\n",
       "      <td>-0.108300</td>\n",
       "      <td>0.005274</td>\n",
       "      <td>-0.190321</td>\n",
       "      <td>-1.175575</td>\n",
       "      <td>0.647376</td>\n",
       "      <td>-0.221929</td>\n",
       "      <td>0.062723</td>\n",
       "      <td>0.061458</td>\n",
       "      <td>123.50</td>\n",
       "      <td>0</td>\n",
       "    </tr>\n",
       "    <tr>\n",
       "      <th>4</th>\n",
       "      <td>2.0</td>\n",
       "      <td>-1.158233</td>\n",
       "      <td>0.877737</td>\n",
       "      <td>1.548718</td>\n",
       "      <td>0.403034</td>\n",
       "      <td>-0.407193</td>\n",
       "      <td>0.095921</td>\n",
       "      <td>0.592941</td>\n",
       "      <td>-0.270533</td>\n",
       "      <td>0.817739</td>\n",
       "      <td>...</td>\n",
       "      <td>-0.009431</td>\n",
       "      <td>0.798278</td>\n",
       "      <td>-0.137458</td>\n",
       "      <td>0.141267</td>\n",
       "      <td>-0.206010</td>\n",
       "      <td>0.502292</td>\n",
       "      <td>0.219422</td>\n",
       "      <td>0.215153</td>\n",
       "      <td>69.99</td>\n",
       "      <td>0</td>\n",
       "    </tr>\n",
       "  </tbody>\n",
       "</table>\n",
       "<p>5 rows × 31 columns</p>\n",
       "</div>"
      ],
      "text/plain": [
       "   Time        V1        V2        V3        V4        V5        V6        V7  \\\n",
       "0   0.0 -1.359807 -0.072781  2.536347  1.378155 -0.338321  0.462388  0.239599   \n",
       "1   0.0  1.191857  0.266151  0.166480  0.448154  0.060018 -0.082361 -0.078803   \n",
       "2   1.0 -1.358354 -1.340163  1.773209  0.379780 -0.503198  1.800499  0.791461   \n",
       "3   1.0 -0.966272 -0.185226  1.792993 -0.863291 -0.010309  1.247203  0.237609   \n",
       "4   2.0 -1.158233  0.877737  1.548718  0.403034 -0.407193  0.095921  0.592941   \n",
       "\n",
       "         V8        V9  ...       V21       V22       V23       V24       V25  \\\n",
       "0  0.098698  0.363787  ... -0.018307  0.277838 -0.110474  0.066928  0.128539   \n",
       "1  0.085102 -0.255425  ... -0.225775 -0.638672  0.101288 -0.339846  0.167170   \n",
       "2  0.247676 -1.514654  ...  0.247998  0.771679  0.909412 -0.689281 -0.327642   \n",
       "3  0.377436 -1.387024  ... -0.108300  0.005274 -0.190321 -1.175575  0.647376   \n",
       "4 -0.270533  0.817739  ... -0.009431  0.798278 -0.137458  0.141267 -0.206010   \n",
       "\n",
       "        V26       V27       V28  Amount  Class  \n",
       "0 -0.189115  0.133558 -0.021053  149.62      0  \n",
       "1  0.125895 -0.008983  0.014724    2.69      0  \n",
       "2 -0.139097 -0.055353 -0.059752  378.66      0  \n",
       "3 -0.221929  0.062723  0.061458  123.50      0  \n",
       "4  0.502292  0.219422  0.215153   69.99      0  \n",
       "\n",
       "[5 rows x 31 columns]"
      ]
     },
     "execution_count": 51,
     "metadata": {},
     "output_type": "execute_result"
    }
   ],
   "source": [
    "data.head()"
   ]
  },
  {
   "cell_type": "code",
   "execution_count": 52,
   "metadata": {},
   "outputs": [
    {
     "data": {
      "text/plain": [
       "(284807, 31)"
      ]
     },
     "execution_count": 52,
     "metadata": {},
     "output_type": "execute_result"
    }
   ],
   "source": [
    "data.shape"
   ]
  },
  {
   "cell_type": "code",
   "execution_count": 53,
   "metadata": {},
   "outputs": [],
   "source": [
    "df=data.loc[:, ['Time','Amount','Class']]"
   ]
  },
  {
   "cell_type": "code",
   "execution_count": 157,
   "metadata": {},
   "outputs": [
    {
     "data": {
      "text/html": [
       "<div>\n",
       "<style scoped>\n",
       "    .dataframe tbody tr th:only-of-type {\n",
       "        vertical-align: middle;\n",
       "    }\n",
       "\n",
       "    .dataframe tbody tr th {\n",
       "        vertical-align: top;\n",
       "    }\n",
       "\n",
       "    .dataframe thead th {\n",
       "        text-align: right;\n",
       "    }\n",
       "</style>\n",
       "<table border=\"1\" class=\"dataframe\">\n",
       "  <thead>\n",
       "    <tr style=\"text-align: right;\">\n",
       "      <th></th>\n",
       "      <th>Time</th>\n",
       "      <th>Amount</th>\n",
       "      <th>Class</th>\n",
       "    </tr>\n",
       "  </thead>\n",
       "  <tbody>\n",
       "    <tr>\n",
       "      <th>count</th>\n",
       "      <td>284807.000000</td>\n",
       "      <td>284807.000000</td>\n",
       "      <td>284807.000000</td>\n",
       "    </tr>\n",
       "    <tr>\n",
       "      <th>mean</th>\n",
       "      <td>94813.859575</td>\n",
       "      <td>88.349619</td>\n",
       "      <td>0.001727</td>\n",
       "    </tr>\n",
       "    <tr>\n",
       "      <th>std</th>\n",
       "      <td>47488.145955</td>\n",
       "      <td>250.120109</td>\n",
       "      <td>0.041527</td>\n",
       "    </tr>\n",
       "    <tr>\n",
       "      <th>min</th>\n",
       "      <td>0.000000</td>\n",
       "      <td>0.000000</td>\n",
       "      <td>0.000000</td>\n",
       "    </tr>\n",
       "    <tr>\n",
       "      <th>25%</th>\n",
       "      <td>54201.500000</td>\n",
       "      <td>5.600000</td>\n",
       "      <td>0.000000</td>\n",
       "    </tr>\n",
       "    <tr>\n",
       "      <th>50%</th>\n",
       "      <td>84692.000000</td>\n",
       "      <td>22.000000</td>\n",
       "      <td>0.000000</td>\n",
       "    </tr>\n",
       "    <tr>\n",
       "      <th>75%</th>\n",
       "      <td>139320.500000</td>\n",
       "      <td>77.165000</td>\n",
       "      <td>0.000000</td>\n",
       "    </tr>\n",
       "    <tr>\n",
       "      <th>max</th>\n",
       "      <td>172792.000000</td>\n",
       "      <td>25691.160000</td>\n",
       "      <td>1.000000</td>\n",
       "    </tr>\n",
       "  </tbody>\n",
       "</table>\n",
       "</div>"
      ],
      "text/plain": [
       "                Time         Amount          Class\n",
       "count  284807.000000  284807.000000  284807.000000\n",
       "mean    94813.859575      88.349619       0.001727\n",
       "std     47488.145955     250.120109       0.041527\n",
       "min         0.000000       0.000000       0.000000\n",
       "25%     54201.500000       5.600000       0.000000\n",
       "50%     84692.000000      22.000000       0.000000\n",
       "75%    139320.500000      77.165000       0.000000\n",
       "max    172792.000000   25691.160000       1.000000"
      ]
     },
     "execution_count": 157,
     "metadata": {},
     "output_type": "execute_result"
    }
   ],
   "source": [
    "df.describe()"
   ]
  },
  {
   "cell_type": "code",
   "execution_count": 158,
   "metadata": {},
   "outputs": [
    {
     "data": {
      "text/plain": [
       "0    284315\n",
       "1       492\n",
       "Name: Class, dtype: int64"
      ]
     },
     "execution_count": 158,
     "metadata": {},
     "output_type": "execute_result"
    }
   ],
   "source": [
    "df.Class.value_counts()"
   ]
  },
  {
   "cell_type": "code",
   "execution_count": 55,
   "metadata": {},
   "outputs": [
    {
     "data": {
      "application/javascript": [
       "\n",
       "        if (window._pyforest_update_imports_cell) { window._pyforest_update_imports_cell('import pandas as pd\\nimport matplotlib.pyplot as plt\\nimport seaborn as sns\\nimport numpy as np\\nfrom sklearn.model_selection import train_test_split'); }\n",
       "    "
      ],
      "text/plain": [
       "<IPython.core.display.Javascript object>"
      ]
     },
     "metadata": {},
     "output_type": "display_data"
    },
    {
     "data": {
      "application/javascript": [
       "\n",
       "        if (window._pyforest_update_imports_cell) { window._pyforest_update_imports_cell('import pandas as pd\\nimport matplotlib.pyplot as plt\\nimport seaborn as sns\\nimport numpy as np\\nfrom sklearn.model_selection import train_test_split'); }\n",
       "    "
      ],
      "text/plain": [
       "<IPython.core.display.Javascript object>"
      ]
     },
     "metadata": {},
     "output_type": "display_data"
    },
    {
     "data": {
      "application/javascript": [
       "\n",
       "        if (window._pyforest_update_imports_cell) { window._pyforest_update_imports_cell('import pandas as pd\\nimport matplotlib.pyplot as plt\\nimport seaborn as sns\\nimport numpy as np\\nfrom sklearn.model_selection import train_test_split'); }\n",
       "    "
      ],
      "text/plain": [
       "<IPython.core.display.Javascript object>"
      ]
     },
     "metadata": {},
     "output_type": "display_data"
    },
    {
     "data": {
      "application/javascript": [
       "\n",
       "        if (window._pyforest_update_imports_cell) { window._pyforest_update_imports_cell('import pandas as pd\\nimport matplotlib.pyplot as plt\\nimport seaborn as sns\\nimport numpy as np\\nfrom sklearn.model_selection import train_test_split'); }\n",
       "    "
      ],
      "text/plain": [
       "<IPython.core.display.Javascript object>"
      ]
     },
     "metadata": {},
     "output_type": "display_data"
    },
    {
     "data": {
      "image/png": "[encoded data removed]",
      "text/plain": [
       "<Figure size 720x576 with 1 Axes>"
      ]
     },
     "metadata": {},
     "output_type": "display_data"
    }
   ],
   "source": [
    "fraud = len(df[df['Class']==1])\n",
    "notfraud = len(df[df['Class']==0])\n",
    "\n",
    "# Data to Plot\n",
    "labels = 'Fraud','Not Fraud'\n",
    "sizes = [fraud,notfraud]\n",
    "\n",
    "#Plot\n",
    "plt.figure(figsize=(10,8))\n",
    "plt.pie(sizes,labels=labels, autopct='%1.1f%%', startangle=0)\n",
    "plt.title('Ratio of Fraud vs Non-Fraud\\n', fontsize=20)\n",
    "sns.set_context(\"paper\",font_scale=2)"
   ]
  },
  {
   "cell_type": "code",
   "execution_count": 57,
   "metadata": {},
   "outputs": [
    {
     "data": {
      "text/plain": [
       "Time      0\n",
       "Amount    0\n",
       "Class     0\n",
       "dtype: int64"
      ]
     },
     "execution_count": 57,
     "metadata": {},
     "output_type": "execute_result"
    }
   ],
   "source": [
    "df.isna().sum()"
   ]
  },
  {
   "cell_type": "code",
   "execution_count": 58,
   "metadata": {},
   "outputs": [
    {
     "data": {
      "text/plain": [
       "Time      float64\n",
       "Amount    float64\n",
       "Class       int64\n",
       "dtype: object"
      ]
     },
     "execution_count": 58,
     "metadata": {},
     "output_type": "execute_result"
    }
   ],
   "source": [
    "df.dtypes"
   ]
  },
  {
   "cell_type": "markdown",
   "metadata": {},
   "source": [
    "# Visualizations"
   ]
  },
  {
   "cell_type": "markdown",
   "metadata": {},
   "source": [
    "# Bivariate Data Analysis"
   ]
  },
  {
   "cell_type": "code",
   "execution_count": 59,
   "metadata": {},
   "outputs": [
    {
     "data": {
      "application/javascript": [
       "\n",
       "        if (window._pyforest_update_imports_cell) { window._pyforest_update_imports_cell('import pandas as pd\\nimport matplotlib.pyplot as plt\\nimport seaborn as sns\\nimport numpy as np\\nfrom sklearn.model_selection import train_test_split'); }\n",
       "    "
      ],
      "text/plain": [
       "<IPython.core.display.Javascript object>"
      ]
     },
     "metadata": {},
     "output_type": "display_data"
    },
    {
     "data": {
      "application/javascript": [
       "\n",
       "        if (window._pyforest_update_imports_cell) { window._pyforest_update_imports_cell('import pandas as pd\\nimport matplotlib.pyplot as plt\\nimport seaborn as sns\\nimport numpy as np\\nfrom sklearn.model_selection import train_test_split'); }\n",
       "    "
      ],
      "text/plain": [
       "<IPython.core.display.Javascript object>"
      ]
     },
     "metadata": {},
     "output_type": "display_data"
    },
    {
     "data": {
      "application/javascript": [
       "\n",
       "        if (window._pyforest_update_imports_cell) { window._pyforest_update_imports_cell('import pandas as pd\\nimport matplotlib.pyplot as plt\\nimport seaborn as sns\\nimport numpy as np\\nfrom sklearn.model_selection import train_test_split'); }\n",
       "    "
      ],
      "text/plain": [
       "<IPython.core.display.Javascript object>"
      ]
     },
     "metadata": {},
     "output_type": "display_data"
    },
    {
     "data": {
      "image/png": "[encoded data removed]",
      "text/plain": [
       "<Figure size 720x504 with 1 Axes>"
      ]
     },
     "metadata": {},
     "output_type": "display_data"
    }
   ],
   "source": [
    "plt.figure(figsize=(10,7))\n",
    "plt.title('Distribution of \"Class\" Attribute')\n",
    "\n",
    "sns.distplot(df['Class'],color='red',kde=False);"
   ]
  },
  {
   "cell_type": "code",
   "execution_count": 60,
   "metadata": {},
   "outputs": [
    {
     "data": {
      "application/javascript": [
       "\n",
       "        if (window._pyforest_update_imports_cell) { window._pyforest_update_imports_cell('import pandas as pd\\nimport matplotlib.pyplot as plt\\nimport seaborn as sns\\nimport numpy as np\\nfrom sklearn.model_selection import train_test_split'); }\n",
       "    "
      ],
      "text/plain": [
       "<IPython.core.display.Javascript object>"
      ]
     },
     "metadata": {},
     "output_type": "display_data"
    },
    {
     "data": {
      "application/javascript": [
       "\n",
       "        if (window._pyforest_update_imports_cell) { window._pyforest_update_imports_cell('import pandas as pd\\nimport matplotlib.pyplot as plt\\nimport seaborn as sns\\nimport numpy as np\\nfrom sklearn.model_selection import train_test_split'); }\n",
       "    "
      ],
      "text/plain": [
       "<IPython.core.display.Javascript object>"
      ]
     },
     "metadata": {},
     "output_type": "display_data"
    },
    {
     "data": {
      "application/javascript": [
       "\n",
       "        if (window._pyforest_update_imports_cell) { window._pyforest_update_imports_cell('import pandas as pd\\nimport matplotlib.pyplot as plt\\nimport seaborn as sns\\nimport numpy as np\\nfrom sklearn.model_selection import train_test_split'); }\n",
       "    "
      ],
      "text/plain": [
       "<IPython.core.display.Javascript object>"
      ]
     },
     "metadata": {},
     "output_type": "display_data"
    },
    {
     "data": {
      "image/png": "[encoded data removed]",
      "text/plain": [
       "<Figure size 720x504 with 1 Axes>"
      ]
     },
     "metadata": {},
     "output_type": "display_data"
    }
   ],
   "source": [
    "plt.figure(figsize=(10,7))\n",
    "plt.title('Distribution of \"Amount\" Attribute')\n",
    "\n",
    "sns.distplot(df['Amount'],color='blue');"
   ]
  },
  {
   "cell_type": "code",
   "execution_count": 61,
   "metadata": {},
   "outputs": [
    {
     "data": {
      "application/javascript": [
       "\n",
       "        if (window._pyforest_update_imports_cell) { window._pyforest_update_imports_cell('import pandas as pd\\nimport matplotlib.pyplot as plt\\nimport seaborn as sns\\nimport numpy as np\\nfrom sklearn.model_selection import train_test_split'); }\n",
       "    "
      ],
      "text/plain": [
       "<IPython.core.display.Javascript object>"
      ]
     },
     "metadata": {},
     "output_type": "display_data"
    },
    {
     "data": {
      "application/javascript": [
       "\n",
       "        if (window._pyforest_update_imports_cell) { window._pyforest_update_imports_cell('import pandas as pd\\nimport matplotlib.pyplot as plt\\nimport seaborn as sns\\nimport numpy as np\\nfrom sklearn.model_selection import train_test_split'); }\n",
       "    "
      ],
      "text/plain": [
       "<IPython.core.display.Javascript object>"
      ]
     },
     "metadata": {},
     "output_type": "display_data"
    },
    {
     "data": {
      "application/javascript": [
       "\n",
       "        if (window._pyforest_update_imports_cell) { window._pyforest_update_imports_cell('import pandas as pd\\nimport matplotlib.pyplot as plt\\nimport seaborn as sns\\nimport numpy as np\\nfrom sklearn.model_selection import train_test_split'); }\n",
       "    "
      ],
      "text/plain": [
       "<IPython.core.display.Javascript object>"
      ]
     },
     "metadata": {},
     "output_type": "display_data"
    },
    {
     "data": {
      "image/png": "[encoded data removed]",
      "text/plain": [
       "<Figure size 720x504 with 1 Axes>"
      ]
     },
     "metadata": {},
     "output_type": "display_data"
    }
   ],
   "source": [
    "plt.figure(figsize=(10,7))\n",
    "plt.title('Distribution of \"Time\" Attribute')\n",
    "\n",
    "sns.distplot(df['Time'],color='red',kde=True);"
   ]
  },
  {
   "cell_type": "code",
   "execution_count": 62,
   "metadata": {},
   "outputs": [
    {
     "data": {
      "image/png": "[encoded data removed]",
      "text/plain": [
       "<Figure size 1080x576 with 3 Axes>"
      ]
     },
     "metadata": {},
     "output_type": "display_data"
    }
   ],
   "source": [
    "df.hist(bins=20, figsize=(15,8),layout=(1,3));"
   ]
  },
  {
   "cell_type": "code",
   "execution_count": 63,
   "metadata": {},
   "outputs": [
    {
     "data": {
      "text/html": [
       "<div>\n",
       "<style scoped>\n",
       "    .dataframe tbody tr th:only-of-type {\n",
       "        vertical-align: middle;\n",
       "    }\n",
       "\n",
       "    .dataframe tbody tr th {\n",
       "        vertical-align: top;\n",
       "    }\n",
       "\n",
       "    .dataframe thead th {\n",
       "        text-align: right;\n",
       "    }\n",
       "</style>\n",
       "<table border=\"1\" class=\"dataframe\">\n",
       "  <thead>\n",
       "    <tr style=\"text-align: right;\">\n",
       "      <th></th>\n",
       "      <th>Time</th>\n",
       "      <th>Amount</th>\n",
       "      <th>Class</th>\n",
       "    </tr>\n",
       "  </thead>\n",
       "  <tbody>\n",
       "    <tr>\n",
       "      <th>Time</th>\n",
       "      <td>1.000000</td>\n",
       "      <td>-0.010596</td>\n",
       "      <td>-0.012323</td>\n",
       "    </tr>\n",
       "    <tr>\n",
       "      <th>Amount</th>\n",
       "      <td>-0.010596</td>\n",
       "      <td>1.000000</td>\n",
       "      <td>0.005632</td>\n",
       "    </tr>\n",
       "    <tr>\n",
       "      <th>Class</th>\n",
       "      <td>-0.012323</td>\n",
       "      <td>0.005632</td>\n",
       "      <td>1.000000</td>\n",
       "    </tr>\n",
       "  </tbody>\n",
       "</table>\n",
       "</div>"
      ],
      "text/plain": [
       "            Time    Amount     Class\n",
       "Time    1.000000 -0.010596 -0.012323\n",
       "Amount -0.010596  1.000000  0.005632\n",
       "Class  -0.012323  0.005632  1.000000"
      ]
     },
     "execution_count": 63,
     "metadata": {},
     "output_type": "execute_result"
    }
   ],
   "source": [
    "df.corr()"
   ]
  },
  {
   "cell_type": "code",
   "execution_count": 64,
   "metadata": {},
   "outputs": [
    {
     "data": {
      "application/javascript": [
       "\n",
       "        if (window._pyforest_update_imports_cell) { window._pyforest_update_imports_cell('import pandas as pd\\nimport matplotlib.pyplot as plt\\nimport seaborn as sns\\nimport numpy as np\\nfrom sklearn.model_selection import train_test_split'); }\n",
       "    "
      ],
      "text/plain": [
       "<IPython.core.display.Javascript object>"
      ]
     },
     "metadata": {},
     "output_type": "display_data"
    },
    {
     "data": {
      "application/javascript": [
       "\n",
       "        if (window._pyforest_update_imports_cell) { window._pyforest_update_imports_cell('import pandas as pd\\nimport matplotlib.pyplot as plt\\nimport seaborn as sns\\nimport numpy as np\\nfrom sklearn.model_selection import train_test_split'); }\n",
       "    "
      ],
      "text/plain": [
       "<IPython.core.display.Javascript object>"
      ]
     },
     "metadata": {},
     "output_type": "display_data"
    },
    {
     "data": {
      "application/javascript": [
       "\n",
       "        if (window._pyforest_update_imports_cell) { window._pyforest_update_imports_cell('import pandas as pd\\nimport matplotlib.pyplot as plt\\nimport seaborn as sns\\nimport numpy as np\\nfrom sklearn.model_selection import train_test_split'); }\n",
       "    "
      ],
      "text/plain": [
       "<IPython.core.display.Javascript object>"
      ]
     },
     "metadata": {},
     "output_type": "display_data"
    },
    {
     "data": {
      "application/javascript": [
       "\n",
       "        if (window._pyforest_update_imports_cell) { window._pyforest_update_imports_cell('import pandas as pd\\nimport matplotlib.pyplot as plt\\nimport seaborn as sns\\nimport numpy as np\\nfrom sklearn.model_selection import train_test_split'); }\n",
       "    "
      ],
      "text/plain": [
       "<IPython.core.display.Javascript object>"
      ]
     },
     "metadata": {},
     "output_type": "display_data"
    },
    {
     "data": {
      "application/javascript": [
       "\n",
       "        if (window._pyforest_update_imports_cell) { window._pyforest_update_imports_cell('import pandas as pd\\nimport matplotlib.pyplot as plt\\nimport seaborn as sns\\nimport numpy as np\\nfrom sklearn.model_selection import train_test_split'); }\n",
       "    "
      ],
      "text/plain": [
       "<IPython.core.display.Javascript object>"
      ]
     },
     "metadata": {},
     "output_type": "display_data"
    },
    {
     "data": {
      "image/png": "[encoded data removed]",
      "text/plain": [
       "<Figure size 720x576 with 2 Axes>"
      ]
     },
     "metadata": {},
     "output_type": "display_data"
    }
   ],
   "source": [
    "plt.figure(figsize=(10,8))\n",
    "sns.set(font_scale=1)\n",
    "sns.heatmap(df.corr(),vmax=1,square=True,annot=True,cmap='viridis')\n",
    "plt.title('Correction between different attributes')\n",
    "plt.show()"
   ]
  },
  {
   "cell_type": "code",
   "execution_count": 65,
   "metadata": {},
   "outputs": [
    {
     "data": {
      "text/html": [
       "<div>\n",
       "<style scoped>\n",
       "    .dataframe tbody tr th:only-of-type {\n",
       "        vertical-align: middle;\n",
       "    }\n",
       "\n",
       "    .dataframe tbody tr th {\n",
       "        vertical-align: top;\n",
       "    }\n",
       "\n",
       "    .dataframe thead th {\n",
       "        text-align: right;\n",
       "    }\n",
       "</style>\n",
       "<table border=\"1\" class=\"dataframe\">\n",
       "  <thead>\n",
       "    <tr style=\"text-align: right;\">\n",
       "      <th></th>\n",
       "      <th>Time</th>\n",
       "      <th>V1</th>\n",
       "      <th>V2</th>\n",
       "      <th>V3</th>\n",
       "      <th>V4</th>\n",
       "      <th>V5</th>\n",
       "      <th>V6</th>\n",
       "      <th>V7</th>\n",
       "      <th>V8</th>\n",
       "      <th>V9</th>\n",
       "      <th>...</th>\n",
       "      <th>V21</th>\n",
       "      <th>V22</th>\n",
       "      <th>V23</th>\n",
       "      <th>V24</th>\n",
       "      <th>V25</th>\n",
       "      <th>V26</th>\n",
       "      <th>V27</th>\n",
       "      <th>V28</th>\n",
       "      <th>Amount</th>\n",
       "      <th>Class</th>\n",
       "    </tr>\n",
       "  </thead>\n",
       "  <tbody>\n",
       "    <tr>\n",
       "      <th>Time</th>\n",
       "      <td>1.000000</td>\n",
       "      <td>1.173963e-01</td>\n",
       "      <td>-1.059333e-02</td>\n",
       "      <td>-4.196182e-01</td>\n",
       "      <td>-1.052602e-01</td>\n",
       "      <td>1.730721e-01</td>\n",
       "      <td>-6.301647e-02</td>\n",
       "      <td>8.471437e-02</td>\n",
       "      <td>-3.694943e-02</td>\n",
       "      <td>-8.660434e-03</td>\n",
       "      <td>...</td>\n",
       "      <td>4.473573e-02</td>\n",
       "      <td>1.440591e-01</td>\n",
       "      <td>5.114236e-02</td>\n",
       "      <td>-1.618187e-02</td>\n",
       "      <td>-2.330828e-01</td>\n",
       "      <td>-4.140710e-02</td>\n",
       "      <td>-5.134591e-03</td>\n",
       "      <td>-9.412688e-03</td>\n",
       "      <td>-0.010596</td>\n",
       "      <td>-0.012323</td>\n",
       "    </tr>\n",
       "    <tr>\n",
       "      <th>V1</th>\n",
       "      <td>0.117396</td>\n",
       "      <td>1.000000e+00</td>\n",
       "      <td>3.777386e-12</td>\n",
       "      <td>-2.119585e-12</td>\n",
       "      <td>-1.724017e-13</td>\n",
       "      <td>-3.472870e-12</td>\n",
       "      <td>-1.306592e-13</td>\n",
       "      <td>-1.127393e-13</td>\n",
       "      <td>2.115132e-12</td>\n",
       "      <td>3.081639e-14</td>\n",
       "      <td>...</td>\n",
       "      <td>-3.276409e-12</td>\n",
       "      <td>2.281843e-12</td>\n",
       "      <td>-2.971523e-12</td>\n",
       "      <td>-1.029987e-12</td>\n",
       "      <td>1.146728e-12</td>\n",
       "      <td>1.835367e-12</td>\n",
       "      <td>7.624885e-12</td>\n",
       "      <td>-9.774773e-13</td>\n",
       "      <td>-0.227709</td>\n",
       "      <td>-0.101347</td>\n",
       "    </tr>\n",
       "    <tr>\n",
       "      <th>V2</th>\n",
       "      <td>-0.010593</td>\n",
       "      <td>3.777386e-12</td>\n",
       "      <td>1.000000e+00</td>\n",
       "      <td>2.326821e-12</td>\n",
       "      <td>-2.314711e-12</td>\n",
       "      <td>-1.832637e-12</td>\n",
       "      <td>9.439633e-13</td>\n",
       "      <td>5.403061e-12</td>\n",
       "      <td>2.153414e-14</td>\n",
       "      <td>3.239499e-13</td>\n",
       "      <td>...</td>\n",
       "      <td>2.280624e-12</td>\n",
       "      <td>-2.545709e-13</td>\n",
       "      <td>-4.855967e-12</td>\n",
       "      <td>6.430858e-13</td>\n",
       "      <td>-9.427890e-13</td>\n",
       "      <td>-4.128661e-13</td>\n",
       "      <td>-9.857578e-13</td>\n",
       "      <td>2.525320e-12</td>\n",
       "      <td>-0.531409</td>\n",
       "      <td>0.091289</td>\n",
       "    </tr>\n",
       "    <tr>\n",
       "      <th>V3</th>\n",
       "      <td>-0.419618</td>\n",
       "      <td>-2.119585e-12</td>\n",
       "      <td>2.326821e-12</td>\n",
       "      <td>1.000000e+00</td>\n",
       "      <td>2.036710e-13</td>\n",
       "      <td>-4.031527e-12</td>\n",
       "      <td>-1.582965e-13</td>\n",
       "      <td>3.404521e-12</td>\n",
       "      <td>-1.271766e-12</td>\n",
       "      <td>-6.819934e-13</td>\n",
       "      <td>...</td>\n",
       "      <td>6.735960e-13</td>\n",
       "      <td>-8.922035e-13</td>\n",
       "      <td>4.146836e-12</td>\n",
       "      <td>3.408174e-12</td>\n",
       "      <td>5.718362e-13</td>\n",
       "      <td>-2.576520e-12</td>\n",
       "      <td>-5.041949e-12</td>\n",
       "      <td>5.188994e-12</td>\n",
       "      <td>-0.210880</td>\n",
       "      <td>-0.192961</td>\n",
       "    </tr>\n",
       "    <tr>\n",
       "      <th>V4</th>\n",
       "      <td>-0.105260</td>\n",
       "      <td>-1.724017e-13</td>\n",
       "      <td>-2.314711e-12</td>\n",
       "      <td>2.036710e-13</td>\n",
       "      <td>1.000000e+00</td>\n",
       "      <td>-2.549916e-13</td>\n",
       "      <td>1.083580e-12</td>\n",
       "      <td>8.130086e-13</td>\n",
       "      <td>7.338233e-13</td>\n",
       "      <td>-7.138427e-13</td>\n",
       "      <td>...</td>\n",
       "      <td>-2.696261e-12</td>\n",
       "      <td>4.343923e-13</td>\n",
       "      <td>-4.161184e-12</td>\n",
       "      <td>-2.368673e-12</td>\n",
       "      <td>1.619552e-12</td>\n",
       "      <td>-3.045481e-13</td>\n",
       "      <td>-1.455904e-12</td>\n",
       "      <td>-2.832333e-12</td>\n",
       "      <td>0.098732</td>\n",
       "      <td>0.133447</td>\n",
       "    </tr>\n",
       "    <tr>\n",
       "      <th>V5</th>\n",
       "      <td>0.173072</td>\n",
       "      <td>-3.472870e-12</td>\n",
       "      <td>-1.832637e-12</td>\n",
       "      <td>-4.031527e-12</td>\n",
       "      <td>-2.549916e-13</td>\n",
       "      <td>1.000000e+00</td>\n",
       "      <td>-6.988066e-14</td>\n",
       "      <td>1.573950e-11</td>\n",
       "      <td>-2.038440e-12</td>\n",
       "      <td>-1.000460e-12</td>\n",
       "      <td>...</td>\n",
       "      <td>-1.752003e-12</td>\n",
       "      <td>7.097727e-13</td>\n",
       "      <td>3.616455e-12</td>\n",
       "      <td>-2.808758e-13</td>\n",
       "      <td>1.452161e-12</td>\n",
       "      <td>-1.895655e-13</td>\n",
       "      <td>-2.124508e-12</td>\n",
       "      <td>1.010195e-11</td>\n",
       "      <td>-0.386356</td>\n",
       "      <td>-0.094974</td>\n",
       "    </tr>\n",
       "    <tr>\n",
       "      <th>V6</th>\n",
       "      <td>-0.063016</td>\n",
       "      <td>-1.306592e-13</td>\n",
       "      <td>9.439633e-13</td>\n",
       "      <td>-1.582965e-13</td>\n",
       "      <td>1.083580e-12</td>\n",
       "      <td>-6.988066e-14</td>\n",
       "      <td>1.000000e+00</td>\n",
       "      <td>-2.798863e-12</td>\n",
       "      <td>-5.446449e-13</td>\n",
       "      <td>2.036992e-12</td>\n",
       "      <td>...</td>\n",
       "      <td>1.476734e-12</td>\n",
       "      <td>-1.145022e-12</td>\n",
       "      <td>-1.527599e-12</td>\n",
       "      <td>1.552011e-12</td>\n",
       "      <td>-2.723515e-12</td>\n",
       "      <td>3.351155e-12</td>\n",
       "      <td>1.480833e-12</td>\n",
       "      <td>-6.072099e-13</td>\n",
       "      <td>0.215981</td>\n",
       "      <td>-0.043643</td>\n",
       "    </tr>\n",
       "    <tr>\n",
       "      <th>V7</th>\n",
       "      <td>0.084714</td>\n",
       "      <td>-1.127393e-13</td>\n",
       "      <td>5.403061e-12</td>\n",
       "      <td>3.404521e-12</td>\n",
       "      <td>8.130086e-13</td>\n",
       "      <td>1.573950e-11</td>\n",
       "      <td>-2.798863e-12</td>\n",
       "      <td>1.000000e+00</td>\n",
       "      <td>5.528624e-12</td>\n",
       "      <td>5.086017e-13</td>\n",
       "      <td>...</td>\n",
       "      <td>2.787549e-12</td>\n",
       "      <td>-8.133708e-13</td>\n",
       "      <td>-4.292216e-12</td>\n",
       "      <td>-2.553519e-12</td>\n",
       "      <td>-7.410166e-13</td>\n",
       "      <td>-4.475969e-12</td>\n",
       "      <td>-1.328689e-11</td>\n",
       "      <td>2.955517e-13</td>\n",
       "      <td>0.397311</td>\n",
       "      <td>-0.187257</td>\n",
       "    </tr>\n",
       "    <tr>\n",
       "      <th>V8</th>\n",
       "      <td>-0.036949</td>\n",
       "      <td>2.115132e-12</td>\n",
       "      <td>2.153414e-14</td>\n",
       "      <td>-1.271766e-12</td>\n",
       "      <td>7.338233e-13</td>\n",
       "      <td>-2.038440e-12</td>\n",
       "      <td>-5.446449e-13</td>\n",
       "      <td>5.528624e-12</td>\n",
       "      <td>1.000000e+00</td>\n",
       "      <td>-2.243351e-12</td>\n",
       "      <td>...</td>\n",
       "      <td>-4.022297e-12</td>\n",
       "      <td>-2.679598e-12</td>\n",
       "      <td>9.013096e-13</td>\n",
       "      <td>-1.074225e-12</td>\n",
       "      <td>-3.268920e-12</td>\n",
       "      <td>1.043929e-12</td>\n",
       "      <td>-3.500241e-12</td>\n",
       "      <td>1.866554e-12</td>\n",
       "      <td>-0.103079</td>\n",
       "      <td>0.019875</td>\n",
       "    </tr>\n",
       "    <tr>\n",
       "      <th>V9</th>\n",
       "      <td>-0.008660</td>\n",
       "      <td>3.081639e-14</td>\n",
       "      <td>3.239499e-13</td>\n",
       "      <td>-6.819934e-13</td>\n",
       "      <td>-7.138427e-13</td>\n",
       "      <td>-1.000460e-12</td>\n",
       "      <td>2.036992e-12</td>\n",
       "      <td>5.086017e-13</td>\n",
       "      <td>-2.243351e-12</td>\n",
       "      <td>1.000000e+00</td>\n",
       "      <td>...</td>\n",
       "      <td>3.040341e-12</td>\n",
       "      <td>-7.470414e-13</td>\n",
       "      <td>-1.011172e-12</td>\n",
       "      <td>8.577402e-13</td>\n",
       "      <td>-1.589032e-12</td>\n",
       "      <td>-7.738355e-13</td>\n",
       "      <td>2.429466e-12</td>\n",
       "      <td>-1.406037e-12</td>\n",
       "      <td>-0.044246</td>\n",
       "      <td>-0.097733</td>\n",
       "    </tr>\n",
       "    <tr>\n",
       "      <th>V10</th>\n",
       "      <td>0.030617</td>\n",
       "      <td>-2.615209e-12</td>\n",
       "      <td>1.463139e-12</td>\n",
       "      <td>-1.611234e-12</td>\n",
       "      <td>-1.938801e-12</td>\n",
       "      <td>-7.186375e-13</td>\n",
       "      <td>7.430422e-13</td>\n",
       "      <td>1.676653e-12</td>\n",
       "      <td>-1.660435e-12</td>\n",
       "      <td>1.185024e-12</td>\n",
       "      <td>...</td>\n",
       "      <td>-5.544586e-13</td>\n",
       "      <td>-1.311143e-13</td>\n",
       "      <td>1.173404e-12</td>\n",
       "      <td>6.406272e-13</td>\n",
       "      <td>2.795490e-12</td>\n",
       "      <td>-2.739912e-13</td>\n",
       "      <td>1.552759e-12</td>\n",
       "      <td>5.116566e-12</td>\n",
       "      <td>-0.101502</td>\n",
       "      <td>-0.216883</td>\n",
       "    </tr>\n",
       "    <tr>\n",
       "      <th>V11</th>\n",
       "      <td>-0.247689</td>\n",
       "      <td>1.866050e-12</td>\n",
       "      <td>-8.312889e-13</td>\n",
       "      <td>8.717778e-13</td>\n",
       "      <td>1.875265e-12</td>\n",
       "      <td>-5.926530e-13</td>\n",
       "      <td>1.014977e-12</td>\n",
       "      <td>-8.527538e-13</td>\n",
       "      <td>1.296749e-12</td>\n",
       "      <td>-3.973180e-13</td>\n",
       "      <td>...</td>\n",
       "      <td>1.104155e-13</td>\n",
       "      <td>-5.682760e-14</td>\n",
       "      <td>1.724575e-12</td>\n",
       "      <td>-1.162265e-12</td>\n",
       "      <td>-1.352496e-12</td>\n",
       "      <td>2.718052e-12</td>\n",
       "      <td>-3.950192e-12</td>\n",
       "      <td>-4.248014e-12</td>\n",
       "      <td>0.000104</td>\n",
       "      <td>0.154876</td>\n",
       "    </tr>\n",
       "    <tr>\n",
       "      <th>V12</th>\n",
       "      <td>0.124348</td>\n",
       "      <td>-1.238751e-12</td>\n",
       "      <td>6.139500e-13</td>\n",
       "      <td>-2.729282e-12</td>\n",
       "      <td>5.384794e-13</td>\n",
       "      <td>1.813042e-12</td>\n",
       "      <td>-9.266614e-13</td>\n",
       "      <td>-2.827657e-13</td>\n",
       "      <td>-3.851332e-13</td>\n",
       "      <td>-1.906290e-12</td>\n",
       "      <td>...</td>\n",
       "      <td>8.108683e-13</td>\n",
       "      <td>-2.345375e-12</td>\n",
       "      <td>-6.877087e-13</td>\n",
       "      <td>-2.911113e-12</td>\n",
       "      <td>1.103943e-12</td>\n",
       "      <td>2.816604e-13</td>\n",
       "      <td>5.952724e-13</td>\n",
       "      <td>-7.428139e-12</td>\n",
       "      <td>-0.009542</td>\n",
       "      <td>-0.260593</td>\n",
       "    </tr>\n",
       "    <tr>\n",
       "      <th>V13</th>\n",
       "      <td>-0.065902</td>\n",
       "      <td>7.587057e-13</td>\n",
       "      <td>-1.180868e-12</td>\n",
       "      <td>-1.021796e-12</td>\n",
       "      <td>6.814508e-13</td>\n",
       "      <td>-7.039187e-14</td>\n",
       "      <td>1.484988e-12</td>\n",
       "      <td>-8.174171e-13</td>\n",
       "      <td>7.721702e-13</td>\n",
       "      <td>8.764020e-13</td>\n",
       "      <td>...</td>\n",
       "      <td>-2.037329e-12</td>\n",
       "      <td>-5.494555e-13</td>\n",
       "      <td>3.507922e-12</td>\n",
       "      <td>1.222139e-13</td>\n",
       "      <td>-1.514047e-12</td>\n",
       "      <td>-2.008516e-12</td>\n",
       "      <td>4.975675e-12</td>\n",
       "      <td>-6.778011e-12</td>\n",
       "      <td>0.005293</td>\n",
       "      <td>-0.004570</td>\n",
       "    </tr>\n",
       "    <tr>\n",
       "      <th>V14</th>\n",
       "      <td>-0.098757</td>\n",
       "      <td>-1.870823e-13</td>\n",
       "      <td>-3.385766e-13</td>\n",
       "      <td>-5.568839e-13</td>\n",
       "      <td>-1.403949e-12</td>\n",
       "      <td>-1.127566e-13</td>\n",
       "      <td>-1.213461e-12</td>\n",
       "      <td>2.038027e-12</td>\n",
       "      <td>-2.596096e-12</td>\n",
       "      <td>-1.270438e-12</td>\n",
       "      <td>...</td>\n",
       "      <td>-4.557161e-13</td>\n",
       "      <td>2.572257e-12</td>\n",
       "      <td>8.286517e-13</td>\n",
       "      <td>-3.381822e-12</td>\n",
       "      <td>8.296570e-13</td>\n",
       "      <td>-3.298712e-13</td>\n",
       "      <td>-2.447651e-12</td>\n",
       "      <td>-1.700001e-12</td>\n",
       "      <td>0.033751</td>\n",
       "      <td>-0.302544</td>\n",
       "    </tr>\n",
       "    <tr>\n",
       "      <th>V15</th>\n",
       "      <td>-0.183453</td>\n",
       "      <td>-3.599620e-13</td>\n",
       "      <td>2.200546e-13</td>\n",
       "      <td>6.438765e-13</td>\n",
       "      <td>1.526633e-12</td>\n",
       "      <td>-1.594240e-12</td>\n",
       "      <td>-1.054852e-12</td>\n",
       "      <td>1.075264e-12</td>\n",
       "      <td>1.649018e-12</td>\n",
       "      <td>8.633109e-13</td>\n",
       "      <td>...</td>\n",
       "      <td>5.922278e-13</td>\n",
       "      <td>-4.121354e-13</td>\n",
       "      <td>-9.848875e-13</td>\n",
       "      <td>-3.256262e-12</td>\n",
       "      <td>-1.725517e-12</td>\n",
       "      <td>5.477463e-13</td>\n",
       "      <td>-4.690795e-12</td>\n",
       "      <td>-4.214974e-12</td>\n",
       "      <td>-0.002986</td>\n",
       "      <td>-0.004223</td>\n",
       "    </tr>\n",
       "    <tr>\n",
       "      <th>V16</th>\n",
       "      <td>0.011903</td>\n",
       "      <td>-1.142579e-12</td>\n",
       "      <td>-8.001072e-13</td>\n",
       "      <td>-8.741567e-13</td>\n",
       "      <td>3.078666e-13</td>\n",
       "      <td>-1.525969e-14</td>\n",
       "      <td>1.374520e-12</td>\n",
       "      <td>-1.477157e-12</td>\n",
       "      <td>-1.830232e-12</td>\n",
       "      <td>1.239627e-12</td>\n",
       "      <td>...</td>\n",
       "      <td>-1.067825e-12</td>\n",
       "      <td>2.009174e-12</td>\n",
       "      <td>4.059520e-13</td>\n",
       "      <td>-4.060850e-13</td>\n",
       "      <td>7.643433e-13</td>\n",
       "      <td>-1.323907e-12</td>\n",
       "      <td>7.022680e-12</td>\n",
       "      <td>5.739623e-13</td>\n",
       "      <td>-0.003910</td>\n",
       "      <td>-0.196539</td>\n",
       "    </tr>\n",
       "    <tr>\n",
       "      <th>V17</th>\n",
       "      <td>-0.073297</td>\n",
       "      <td>1.671929e-12</td>\n",
       "      <td>2.028338e-12</td>\n",
       "      <td>-1.060595e-12</td>\n",
       "      <td>1.137838e-14</td>\n",
       "      <td>1.713973e-13</td>\n",
       "      <td>7.433013e-13</td>\n",
       "      <td>-1.232709e-12</td>\n",
       "      <td>7.023506e-13</td>\n",
       "      <td>-1.449403e-12</td>\n",
       "      <td>...</td>\n",
       "      <td>1.794090e-12</td>\n",
       "      <td>2.281233e-13</td>\n",
       "      <td>-9.948875e-13</td>\n",
       "      <td>-2.073060e-12</td>\n",
       "      <td>4.513383e-12</td>\n",
       "      <td>2.941034e-12</td>\n",
       "      <td>-1.324300e-12</td>\n",
       "      <td>1.853972e-12</td>\n",
       "      <td>0.007309</td>\n",
       "      <td>-0.326481</td>\n",
       "    </tr>\n",
       "    <tr>\n",
       "      <th>V18</th>\n",
       "      <td>0.090438</td>\n",
       "      <td>-5.736991e-13</td>\n",
       "      <td>-1.911768e-14</td>\n",
       "      <td>-8.846121e-13</td>\n",
       "      <td>-1.309646e-12</td>\n",
       "      <td>1.101935e-12</td>\n",
       "      <td>6.851723e-13</td>\n",
       "      <td>-4.281009e-13</td>\n",
       "      <td>1.499457e-12</td>\n",
       "      <td>7.185724e-13</td>\n",
       "      <td>...</td>\n",
       "      <td>-2.186255e-12</td>\n",
       "      <td>1.394241e-12</td>\n",
       "      <td>-2.160586e-12</td>\n",
       "      <td>4.303783e-12</td>\n",
       "      <td>5.432583e-13</td>\n",
       "      <td>-1.810657e-12</td>\n",
       "      <td>-4.949657e-12</td>\n",
       "      <td>4.113090e-12</td>\n",
       "      <td>0.035650</td>\n",
       "      <td>-0.111485</td>\n",
       "    </tr>\n",
       "    <tr>\n",
       "      <th>V19</th>\n",
       "      <td>0.028975</td>\n",
       "      <td>-2.770313e-12</td>\n",
       "      <td>-2.238263e-13</td>\n",
       "      <td>-1.060920e-12</td>\n",
       "      <td>-9.753449e-13</td>\n",
       "      <td>5.958309e-13</td>\n",
       "      <td>1.149008e-12</td>\n",
       "      <td>-3.742530e-12</td>\n",
       "      <td>1.988264e-12</td>\n",
       "      <td>-8.788279e-13</td>\n",
       "      <td>...</td>\n",
       "      <td>-3.316324e-13</td>\n",
       "      <td>7.053045e-14</td>\n",
       "      <td>-7.117813e-13</td>\n",
       "      <td>1.326433e-12</td>\n",
       "      <td>9.270368e-13</td>\n",
       "      <td>2.412142e-12</td>\n",
       "      <td>-2.201361e-12</td>\n",
       "      <td>3.450670e-12</td>\n",
       "      <td>-0.056151</td>\n",
       "      <td>0.034783</td>\n",
       "    </tr>\n",
       "    <tr>\n",
       "      <th>V20</th>\n",
       "      <td>-0.050866</td>\n",
       "      <td>2.660170e-13</td>\n",
       "      <td>5.842566e-13</td>\n",
       "      <td>1.874043e-12</td>\n",
       "      <td>-2.347341e-12</td>\n",
       "      <td>-1.738986e-13</td>\n",
       "      <td>-2.382082e-12</td>\n",
       "      <td>8.068636e-12</td>\n",
       "      <td>-1.888460e-13</td>\n",
       "      <td>1.270503e-12</td>\n",
       "      <td>...</td>\n",
       "      <td>-3.893045e-12</td>\n",
       "      <td>1.633070e-12</td>\n",
       "      <td>-1.019734e-11</td>\n",
       "      <td>1.267472e-12</td>\n",
       "      <td>-1.593252e-12</td>\n",
       "      <td>1.466899e-13</td>\n",
       "      <td>-2.996593e-12</td>\n",
       "      <td>6.125392e-12</td>\n",
       "      <td>0.339403</td>\n",
       "      <td>0.020090</td>\n",
       "    </tr>\n",
       "    <tr>\n",
       "      <th>V21</th>\n",
       "      <td>0.044736</td>\n",
       "      <td>-3.276409e-12</td>\n",
       "      <td>2.280624e-12</td>\n",
       "      <td>6.735960e-13</td>\n",
       "      <td>-2.696261e-12</td>\n",
       "      <td>-1.752003e-12</td>\n",
       "      <td>1.476734e-12</td>\n",
       "      <td>2.787549e-12</td>\n",
       "      <td>-4.022297e-12</td>\n",
       "      <td>3.040341e-12</td>\n",
       "      <td>...</td>\n",
       "      <td>1.000000e+00</td>\n",
       "      <td>-3.416192e-12</td>\n",
       "      <td>1.067037e-12</td>\n",
       "      <td>2.350238e-12</td>\n",
       "      <td>-3.120625e-12</td>\n",
       "      <td>8.462860e-13</td>\n",
       "      <td>-8.528788e-13</td>\n",
       "      <td>4.257426e-12</td>\n",
       "      <td>0.105999</td>\n",
       "      <td>0.040413</td>\n",
       "    </tr>\n",
       "    <tr>\n",
       "      <th>V22</th>\n",
       "      <td>0.144059</td>\n",
       "      <td>2.281843e-12</td>\n",
       "      <td>-2.545709e-13</td>\n",
       "      <td>-8.922035e-13</td>\n",
       "      <td>4.343923e-13</td>\n",
       "      <td>7.097727e-13</td>\n",
       "      <td>-1.145022e-12</td>\n",
       "      <td>-8.133708e-13</td>\n",
       "      <td>-2.679598e-12</td>\n",
       "      <td>-7.470414e-13</td>\n",
       "      <td>...</td>\n",
       "      <td>-3.416192e-12</td>\n",
       "      <td>1.000000e+00</td>\n",
       "      <td>-9.444490e-13</td>\n",
       "      <td>-1.123618e-12</td>\n",
       "      <td>1.967539e-12</td>\n",
       "      <td>-1.014966e-12</td>\n",
       "      <td>-1.726243e-13</td>\n",
       "      <td>5.948480e-12</td>\n",
       "      <td>-0.064801</td>\n",
       "      <td>0.000805</td>\n",
       "    </tr>\n",
       "    <tr>\n",
       "      <th>V23</th>\n",
       "      <td>0.051142</td>\n",
       "      <td>-2.971523e-12</td>\n",
       "      <td>-4.855967e-12</td>\n",
       "      <td>4.146836e-12</td>\n",
       "      <td>-4.161184e-12</td>\n",
       "      <td>3.616455e-12</td>\n",
       "      <td>-1.527599e-12</td>\n",
       "      <td>-4.292216e-12</td>\n",
       "      <td>9.013096e-13</td>\n",
       "      <td>-1.011172e-12</td>\n",
       "      <td>...</td>\n",
       "      <td>1.067037e-12</td>\n",
       "      <td>-9.444490e-13</td>\n",
       "      <td>1.000000e+00</td>\n",
       "      <td>2.354271e-12</td>\n",
       "      <td>-3.751280e-12</td>\n",
       "      <td>-1.002527e-12</td>\n",
       "      <td>9.199453e-12</td>\n",
       "      <td>3.820045e-12</td>\n",
       "      <td>-0.112633</td>\n",
       "      <td>-0.002685</td>\n",
       "    </tr>\n",
       "    <tr>\n",
       "      <th>V24</th>\n",
       "      <td>-0.016182</td>\n",
       "      <td>-1.029987e-12</td>\n",
       "      <td>6.430858e-13</td>\n",
       "      <td>3.408174e-12</td>\n",
       "      <td>-2.368673e-12</td>\n",
       "      <td>-2.808758e-13</td>\n",
       "      <td>1.552011e-12</td>\n",
       "      <td>-2.553519e-12</td>\n",
       "      <td>-1.074225e-12</td>\n",
       "      <td>8.577402e-13</td>\n",
       "      <td>...</td>\n",
       "      <td>2.350238e-12</td>\n",
       "      <td>-1.123618e-12</td>\n",
       "      <td>2.354271e-12</td>\n",
       "      <td>1.000000e+00</td>\n",
       "      <td>-3.918330e-12</td>\n",
       "      <td>1.604807e-12</td>\n",
       "      <td>1.554686e-12</td>\n",
       "      <td>1.380793e-11</td>\n",
       "      <td>0.005146</td>\n",
       "      <td>-0.007221</td>\n",
       "    </tr>\n",
       "    <tr>\n",
       "      <th>V25</th>\n",
       "      <td>-0.233083</td>\n",
       "      <td>1.146728e-12</td>\n",
       "      <td>-9.427890e-13</td>\n",
       "      <td>5.718362e-13</td>\n",
       "      <td>1.619552e-12</td>\n",
       "      <td>1.452161e-12</td>\n",
       "      <td>-2.723515e-12</td>\n",
       "      <td>-7.410166e-13</td>\n",
       "      <td>-3.268920e-12</td>\n",
       "      <td>-1.589032e-12</td>\n",
       "      <td>...</td>\n",
       "      <td>-3.120625e-12</td>\n",
       "      <td>1.967539e-12</td>\n",
       "      <td>-3.751280e-12</td>\n",
       "      <td>-3.918330e-12</td>\n",
       "      <td>1.000000e+00</td>\n",
       "      <td>2.112541e-12</td>\n",
       "      <td>-6.225186e-13</td>\n",
       "      <td>-8.597137e-12</td>\n",
       "      <td>-0.047837</td>\n",
       "      <td>0.003308</td>\n",
       "    </tr>\n",
       "    <tr>\n",
       "      <th>V26</th>\n",
       "      <td>-0.041407</td>\n",
       "      <td>1.835367e-12</td>\n",
       "      <td>-4.128661e-13</td>\n",
       "      <td>-2.576520e-12</td>\n",
       "      <td>-3.045481e-13</td>\n",
       "      <td>-1.895655e-13</td>\n",
       "      <td>3.351155e-12</td>\n",
       "      <td>-4.475969e-12</td>\n",
       "      <td>1.043929e-12</td>\n",
       "      <td>-7.738355e-13</td>\n",
       "      <td>...</td>\n",
       "      <td>8.462860e-13</td>\n",
       "      <td>-1.014966e-12</td>\n",
       "      <td>-1.002527e-12</td>\n",
       "      <td>1.604807e-12</td>\n",
       "      <td>2.112541e-12</td>\n",
       "      <td>1.000000e+00</td>\n",
       "      <td>2.374837e-12</td>\n",
       "      <td>-1.036867e-11</td>\n",
       "      <td>-0.003208</td>\n",
       "      <td>0.004455</td>\n",
       "    </tr>\n",
       "    <tr>\n",
       "      <th>V27</th>\n",
       "      <td>-0.005135</td>\n",
       "      <td>7.624885e-12</td>\n",
       "      <td>-9.857578e-13</td>\n",
       "      <td>-5.041949e-12</td>\n",
       "      <td>-1.455904e-12</td>\n",
       "      <td>-2.124508e-12</td>\n",
       "      <td>1.480833e-12</td>\n",
       "      <td>-1.328689e-11</td>\n",
       "      <td>-3.500241e-12</td>\n",
       "      <td>2.429466e-12</td>\n",
       "      <td>...</td>\n",
       "      <td>-8.528788e-13</td>\n",
       "      <td>-1.726243e-13</td>\n",
       "      <td>9.199453e-12</td>\n",
       "      <td>1.554686e-12</td>\n",
       "      <td>-6.225186e-13</td>\n",
       "      <td>2.374837e-12</td>\n",
       "      <td>1.000000e+00</td>\n",
       "      <td>-4.440761e-12</td>\n",
       "      <td>0.028825</td>\n",
       "      <td>0.017580</td>\n",
       "    </tr>\n",
       "    <tr>\n",
       "      <th>V28</th>\n",
       "      <td>-0.009413</td>\n",
       "      <td>-9.774773e-13</td>\n",
       "      <td>2.525320e-12</td>\n",
       "      <td>5.188994e-12</td>\n",
       "      <td>-2.832333e-12</td>\n",
       "      <td>1.010195e-11</td>\n",
       "      <td>-6.072099e-13</td>\n",
       "      <td>2.955517e-13</td>\n",
       "      <td>1.866554e-12</td>\n",
       "      <td>-1.406037e-12</td>\n",
       "      <td>...</td>\n",
       "      <td>4.257426e-12</td>\n",
       "      <td>5.948480e-12</td>\n",
       "      <td>3.820045e-12</td>\n",
       "      <td>1.380793e-11</td>\n",
       "      <td>-8.597137e-12</td>\n",
       "      <td>-1.036867e-11</td>\n",
       "      <td>-4.440761e-12</td>\n",
       "      <td>1.000000e+00</td>\n",
       "      <td>0.010258</td>\n",
       "      <td>0.009536</td>\n",
       "    </tr>\n",
       "    <tr>\n",
       "      <th>Amount</th>\n",
       "      <td>-0.010596</td>\n",
       "      <td>-2.277087e-01</td>\n",
       "      <td>-5.314089e-01</td>\n",
       "      <td>-2.108805e-01</td>\n",
       "      <td>9.873167e-02</td>\n",
       "      <td>-3.863563e-01</td>\n",
       "      <td>2.159812e-01</td>\n",
       "      <td>3.973113e-01</td>\n",
       "      <td>-1.030791e-01</td>\n",
       "      <td>-4.424560e-02</td>\n",
       "      <td>...</td>\n",
       "      <td>1.059989e-01</td>\n",
       "      <td>-6.480065e-02</td>\n",
       "      <td>-1.126326e-01</td>\n",
       "      <td>5.146217e-03</td>\n",
       "      <td>-4.783686e-02</td>\n",
       "      <td>-3.208037e-03</td>\n",
       "      <td>2.882546e-02</td>\n",
       "      <td>1.025822e-02</td>\n",
       "      <td>1.000000</td>\n",
       "      <td>0.005632</td>\n",
       "    </tr>\n",
       "    <tr>\n",
       "      <th>Class</th>\n",
       "      <td>-0.012323</td>\n",
       "      <td>-1.013473e-01</td>\n",
       "      <td>9.128865e-02</td>\n",
       "      <td>-1.929608e-01</td>\n",
       "      <td>1.334475e-01</td>\n",
       "      <td>-9.497430e-02</td>\n",
       "      <td>-4.364316e-02</td>\n",
       "      <td>-1.872566e-01</td>\n",
       "      <td>1.987512e-02</td>\n",
       "      <td>-9.773269e-02</td>\n",
       "      <td>...</td>\n",
       "      <td>4.041338e-02</td>\n",
       "      <td>8.053175e-04</td>\n",
       "      <td>-2.685156e-03</td>\n",
       "      <td>-7.220907e-03</td>\n",
       "      <td>3.307706e-03</td>\n",
       "      <td>4.455398e-03</td>\n",
       "      <td>1.757973e-02</td>\n",
       "      <td>9.536041e-03</td>\n",
       "      <td>0.005632</td>\n",
       "      <td>1.000000</td>\n",
       "    </tr>\n",
       "  </tbody>\n",
       "</table>\n",
       "<p>31 rows × 31 columns</p>\n",
       "</div>"
      ],
      "text/plain": [
       "            Time            V1            V2            V3            V4  \\\n",
       "Time    1.000000  1.173963e-01 -1.059333e-02 -4.196182e-01 -1.052602e-01   \n",
       "V1      0.117396  1.000000e+00  3.777386e-12 -2.119585e-12 -1.724017e-13   \n",
       "V2     -0.010593  3.777386e-12  1.000000e+00  2.326821e-12 -2.314711e-12   \n",
       "V3     -0.419618 -2.119585e-12  2.326821e-12  1.000000e+00  2.036710e-13   \n",
       "V4     -0.105260 -1.724017e-13 -2.314711e-12  2.036710e-13  1.000000e+00   \n",
       "V5      0.173072 -3.472870e-12 -1.832637e-12 -4.031527e-12 -2.549916e-13   \n",
       "V6     -0.063016 -1.306592e-13  9.439633e-13 -1.582965e-13  1.083580e-12   \n",
       "V7      0.084714 -1.127393e-13  5.403061e-12  3.404521e-12  8.130086e-13   \n",
       "V8     -0.036949  2.115132e-12  2.153414e-14 -1.271766e-12  7.338233e-13   \n",
       "V9     -0.008660  3.081639e-14  3.239499e-13 -6.819934e-13 -7.138427e-13   \n",
       "V10     0.030617 -2.615209e-12  1.463139e-12 -1.611234e-12 -1.938801e-12   \n",
       "V11    -0.247689  1.866050e-12 -8.312889e-13  8.717778e-13  1.875265e-12   \n",
       "V12     0.124348 -1.238751e-12  6.139500e-13 -2.729282e-12  5.384794e-13   \n",
       "V13    -0.065902  7.587057e-13 -1.180868e-12 -1.021796e-12  6.814508e-13   \n",
       "V14    -0.098757 -1.870823e-13 -3.385766e-13 -5.568839e-13 -1.403949e-12   \n",
       "V15    -0.183453 -3.599620e-13  2.200546e-13  6.438765e-13  1.526633e-12   \n",
       "V16     0.011903 -1.142579e-12 -8.001072e-13 -8.741567e-13  3.078666e-13   \n",
       "V17    -0.073297  1.671929e-12  2.028338e-12 -1.060595e-12  1.137838e-14   \n",
       "V18     0.090438 -5.736991e-13 -1.911768e-14 -8.846121e-13 -1.309646e-12   \n",
       "V19     0.028975 -2.770313e-12 -2.238263e-13 -1.060920e-12 -9.753449e-13   \n",
       "V20    -0.050866  2.660170e-13  5.842566e-13  1.874043e-12 -2.347341e-12   \n",
       "V21     0.044736 -3.276409e-12  2.280624e-12  6.735960e-13 -2.696261e-12   \n",
       "V22     0.144059  2.281843e-12 -2.545709e-13 -8.922035e-13  4.343923e-13   \n",
       "V23     0.051142 -2.971523e-12 -4.855967e-12  4.146836e-12 -4.161184e-12   \n",
       "V24    -0.016182 -1.029987e-12  6.430858e-13  3.408174e-12 -2.368673e-12   \n",
       "V25    -0.233083  1.146728e-12 -9.427890e-13  5.718362e-13  1.619552e-12   \n",
       "V26    -0.041407  1.835367e-12 -4.128661e-13 -2.576520e-12 -3.045481e-13   \n",
       "V27    -0.005135  7.624885e-12 -9.857578e-13 -5.041949e-12 -1.455904e-12   \n",
       "V28    -0.009413 -9.774773e-13  2.525320e-12  5.188994e-12 -2.832333e-12   \n",
       "Amount -0.010596 -2.277087e-01 -5.314089e-01 -2.108805e-01  9.873167e-02   \n",
       "Class  -0.012323 -1.013473e-01  9.128865e-02 -1.929608e-01  1.334475e-01   \n",
       "\n",
       "                  V5            V6            V7            V8            V9  \\\n",
       "Time    1.730721e-01 -6.301647e-02  8.471437e-02 -3.694943e-02 -8.660434e-03   \n",
       "V1     -3.472870e-12 -1.306592e-13 -1.127393e-13  2.115132e-12  3.081639e-14   \n",
       "V2     -1.832637e-12  9.439633e-13  5.403061e-12  2.153414e-14  3.239499e-13   \n",
       "V3     -4.031527e-12 -1.582965e-13  3.404521e-12 -1.271766e-12 -6.819934e-13   \n",
       "V4     -2.549916e-13  1.083580e-12  8.130086e-13  7.338233e-13 -7.138427e-13   \n",
       "V5      1.000000e+00 -6.988066e-14  1.573950e-11 -2.038440e-12 -1.000460e-12   \n",
       "V6     -6.988066e-14  1.000000e+00 -2.798863e-12 -5.446449e-13  2.036992e-12   \n",
       "V7      1.573950e-11 -2.798863e-12  1.000000e+00  5.528624e-12  5.086017e-13   \n",
       "V8     -2.038440e-12 -5.446449e-13  5.528624e-12  1.000000e+00 -2.243351e-12   \n",
       "V9     -1.000460e-12  2.036992e-12  5.086017e-13 -2.243351e-12  1.000000e+00   \n",
       "V10    -7.186375e-13  7.430422e-13  1.676653e-12 -1.660435e-12  1.185024e-12   \n",
       "V11    -5.926530e-13  1.014977e-12 -8.527538e-13  1.296749e-12 -3.973180e-13   \n",
       "V12     1.813042e-12 -9.266614e-13 -2.827657e-13 -3.851332e-13 -1.906290e-12   \n",
       "V13    -7.039187e-14  1.484988e-12 -8.174171e-13  7.721702e-13  8.764020e-13   \n",
       "V14    -1.127566e-13 -1.213461e-12  2.038027e-12 -2.596096e-12 -1.270438e-12   \n",
       "V15    -1.594240e-12 -1.054852e-12  1.075264e-12  1.649018e-12  8.633109e-13   \n",
       "V16    -1.525969e-14  1.374520e-12 -1.477157e-12 -1.830232e-12  1.239627e-12   \n",
       "V17     1.713973e-13  7.433013e-13 -1.232709e-12  7.023506e-13 -1.449403e-12   \n",
       "V18     1.101935e-12  6.851723e-13 -4.281009e-13  1.499457e-12  7.185724e-13   \n",
       "V19     5.958309e-13  1.149008e-12 -3.742530e-12  1.988264e-12 -8.788279e-13   \n",
       "V20    -1.738986e-13 -2.382082e-12  8.068636e-12 -1.888460e-13  1.270503e-12   \n",
       "V21    -1.752003e-12  1.476734e-12  2.787549e-12 -4.022297e-12  3.040341e-12   \n",
       "V22     7.097727e-13 -1.145022e-12 -8.133708e-13 -2.679598e-12 -7.470414e-13   \n",
       "V23     3.616455e-12 -1.527599e-12 -4.292216e-12  9.013096e-13 -1.011172e-12   \n",
       "V24    -2.808758e-13  1.552011e-12 -2.553519e-12 -1.074225e-12  8.577402e-13   \n",
       "V25     1.452161e-12 -2.723515e-12 -7.410166e-13 -3.268920e-12 -1.589032e-12   \n",
       "V26    -1.895655e-13  3.351155e-12 -4.475969e-12  1.043929e-12 -7.738355e-13   \n",
       "V27    -2.124508e-12  1.480833e-12 -1.328689e-11 -3.500241e-12  2.429466e-12   \n",
       "V28     1.010195e-11 -6.072099e-13  2.955517e-13  1.866554e-12 -1.406037e-12   \n",
       "Amount -3.863563e-01  2.159812e-01  3.973113e-01 -1.030791e-01 -4.424560e-02   \n",
       "Class  -9.497430e-02 -4.364316e-02 -1.872566e-01  1.987512e-02 -9.773269e-02   \n",
       "\n",
       "        ...           V21           V22           V23           V24  \\\n",
       "Time    ...  4.473573e-02  1.440591e-01  5.114236e-02 -1.618187e-02   \n",
       "V1      ... -3.276409e-12  2.281843e-12 -2.971523e-12 -1.029987e-12   \n",
       "V2      ...  2.280624e-12 -2.545709e-13 -4.855967e-12  6.430858e-13   \n",
       "V3      ...  6.735960e-13 -8.922035e-13  4.146836e-12  3.408174e-12   \n",
       "V4      ... -2.696261e-12  4.343923e-13 -4.161184e-12 -2.368673e-12   \n",
       "V5      ... -1.752003e-12  7.097727e-13  3.616455e-12 -2.808758e-13   \n",
       "V6      ...  1.476734e-12 -1.145022e-12 -1.527599e-12  1.552011e-12   \n",
       "V7      ...  2.787549e-12 -8.133708e-13 -4.292216e-12 -2.553519e-12   \n",
       "V8      ... -4.022297e-12 -2.679598e-12  9.013096e-13 -1.074225e-12   \n",
       "V9      ...  3.040341e-12 -7.470414e-13 -1.011172e-12  8.577402e-13   \n",
       "V10     ... -5.544586e-13 -1.311143e-13  1.173404e-12  6.406272e-13   \n",
       "V11     ...  1.104155e-13 -5.682760e-14  1.724575e-12 -1.162265e-12   \n",
       "V12     ...  8.108683e-13 -2.345375e-12 -6.877087e-13 -2.911113e-12   \n",
       "V13     ... -2.037329e-12 -5.494555e-13  3.507922e-12  1.222139e-13   \n",
       "V14     ... -4.557161e-13  2.572257e-12  8.286517e-13 -3.381822e-12   \n",
       "V15     ...  5.922278e-13 -4.121354e-13 -9.848875e-13 -3.256262e-12   \n",
       "V16     ... -1.067825e-12  2.009174e-12  4.059520e-13 -4.060850e-13   \n",
       "V17     ...  1.794090e-12  2.281233e-13 -9.948875e-13 -2.073060e-12   \n",
       "V18     ... -2.186255e-12  1.394241e-12 -2.160586e-12  4.303783e-12   \n",
       "V19     ... -3.316324e-13  7.053045e-14 -7.117813e-13  1.326433e-12   \n",
       "V20     ... -3.893045e-12  1.633070e-12 -1.019734e-11  1.267472e-12   \n",
       "V21     ...  1.000000e+00 -3.416192e-12  1.067037e-12  2.350238e-12   \n",
       "V22     ... -3.416192e-12  1.000000e+00 -9.444490e-13 -1.123618e-12   \n",
       "V23     ...  1.067037e-12 -9.444490e-13  1.000000e+00  2.354271e-12   \n",
       "V24     ...  2.350238e-12 -1.123618e-12  2.354271e-12  1.000000e+00   \n",
       "V25     ... -3.120625e-12  1.967539e-12 -3.751280e-12 -3.918330e-12   \n",
       "V26     ...  8.462860e-13 -1.014966e-12 -1.002527e-12  1.604807e-12   \n",
       "V27     ... -8.528788e-13 -1.726243e-13  9.199453e-12  1.554686e-12   \n",
       "V28     ...  4.257426e-12  5.948480e-12  3.820045e-12  1.380793e-11   \n",
       "Amount  ...  1.059989e-01 -6.480065e-02 -1.126326e-01  5.146217e-03   \n",
       "Class   ...  4.041338e-02  8.053175e-04 -2.685156e-03 -7.220907e-03   \n",
       "\n",
       "                 V25           V26           V27           V28    Amount  \\\n",
       "Time   -2.330828e-01 -4.140710e-02 -5.134591e-03 -9.412688e-03 -0.010596   \n",
       "V1      1.146728e-12  1.835367e-12  7.624885e-12 -9.774773e-13 -0.227709   \n",
       "V2     -9.427890e-13 -4.128661e-13 -9.857578e-13  2.525320e-12 -0.531409   \n",
       "V3      5.718362e-13 -2.576520e-12 -5.041949e-12  5.188994e-12 -0.210880   \n",
       "V4      1.619552e-12 -3.045481e-13 -1.455904e-12 -2.832333e-12  0.098732   \n",
       "V5      1.452161e-12 -1.895655e-13 -2.124508e-12  1.010195e-11 -0.386356   \n",
       "V6     -2.723515e-12  3.351155e-12  1.480833e-12 -6.072099e-13  0.215981   \n",
       "V7     -7.410166e-13 -4.475969e-12 -1.328689e-11  2.955517e-13  0.397311   \n",
       "V8     -3.268920e-12  1.043929e-12 -3.500241e-12  1.866554e-12 -0.103079   \n",
       "V9     -1.589032e-12 -7.738355e-13  2.429466e-12 -1.406037e-12 -0.044246   \n",
       "V10     2.795490e-12 -2.739912e-13  1.552759e-12  5.116566e-12 -0.101502   \n",
       "V11    -1.352496e-12  2.718052e-12 -3.950192e-12 -4.248014e-12  0.000104   \n",
       "V12     1.103943e-12  2.816604e-13  5.952724e-13 -7.428139e-12 -0.009542   \n",
       "V13    -1.514047e-12 -2.008516e-12  4.975675e-12 -6.778011e-12  0.005293   \n",
       "V14     8.296570e-13 -3.298712e-13 -2.447651e-12 -1.700001e-12  0.033751   \n",
       "V15    -1.725517e-12  5.477463e-13 -4.690795e-12 -4.214974e-12 -0.002986   \n",
       "V16     7.643433e-13 -1.323907e-12  7.022680e-12  5.739623e-13 -0.003910   \n",
       "V17     4.513383e-12  2.941034e-12 -1.324300e-12  1.853972e-12  0.007309   \n",
       "V18     5.432583e-13 -1.810657e-12 -4.949657e-12  4.113090e-12  0.035650   \n",
       "V19     9.270368e-13  2.412142e-12 -2.201361e-12  3.450670e-12 -0.056151   \n",
       "V20    -1.593252e-12  1.466899e-13 -2.996593e-12  6.125392e-12  0.339403   \n",
       "V21    -3.120625e-12  8.462860e-13 -8.528788e-13  4.257426e-12  0.105999   \n",
       "V22     1.967539e-12 -1.014966e-12 -1.726243e-13  5.948480e-12 -0.064801   \n",
       "V23    -3.751280e-12 -1.002527e-12  9.199453e-12  3.820045e-12 -0.112633   \n",
       "V24    -3.918330e-12  1.604807e-12  1.554686e-12  1.380793e-11  0.005146   \n",
       "V25     1.000000e+00  2.112541e-12 -6.225186e-13 -8.597137e-12 -0.047837   \n",
       "V26     2.112541e-12  1.000000e+00  2.374837e-12 -1.036867e-11 -0.003208   \n",
       "V27    -6.225186e-13  2.374837e-12  1.000000e+00 -4.440761e-12  0.028825   \n",
       "V28    -8.597137e-12 -1.036867e-11 -4.440761e-12  1.000000e+00  0.010258   \n",
       "Amount -4.783686e-02 -3.208037e-03  2.882546e-02  1.025822e-02  1.000000   \n",
       "Class   3.307706e-03  4.455398e-03  1.757973e-02  9.536041e-03  0.005632   \n",
       "\n",
       "           Class  \n",
       "Time   -0.012323  \n",
       "V1     -0.101347  \n",
       "V2      0.091289  \n",
       "V3     -0.192961  \n",
       "V4      0.133447  \n",
       "V5     -0.094974  \n",
       "V6     -0.043643  \n",
       "V7     -0.187257  \n",
       "V8      0.019875  \n",
       "V9     -0.097733  \n",
       "V10    -0.216883  \n",
       "V11     0.154876  \n",
       "V12    -0.260593  \n",
       "V13    -0.004570  \n",
       "V14    -0.302544  \n",
       "V15    -0.004223  \n",
       "V16    -0.196539  \n",
       "V17    -0.326481  \n",
       "V18    -0.111485  \n",
       "V19     0.034783  \n",
       "V20     0.020090  \n",
       "V21     0.040413  \n",
       "V22     0.000805  \n",
       "V23    -0.002685  \n",
       "V24    -0.007221  \n",
       "V25     0.003308  \n",
       "V26     0.004455  \n",
       "V27     0.017580  \n",
       "V28     0.009536  \n",
       "Amount  0.005632  \n",
       "Class   1.000000  \n",
       "\n",
       "[31 rows x 31 columns]"
      ]
     },
     "execution_count": 65,
     "metadata": {},
     "output_type": "execute_result"
    }
   ],
   "source": [
    "data.corr()"
   ]
  },
  {
   "cell_type": "code",
   "execution_count": 159,
   "metadata": {},
   "outputs": [
    {
     "data": {
      "image/png": "[encoded data removed]",
      "text/plain": [
       "<Figure size 3600x3240 with 2 Axes>"
      ]
     },
     "metadata": {},
     "output_type": "display_data"
    }
   ],
   "source": [
    "plt.figure(figsize=(50,45))\n",
    "\n",
    "sns.heatmap(data.corr(), vmax=1,square=True,cmap='viridis')\n",
    "plt.title('Correlation bewteen all other different attribtes')\n",
    "plt.show()"
   ]
  },
  {
   "cell_type": "code",
   "execution_count": 160,
   "metadata": {},
   "outputs": [
    {
     "name": "stderr",
     "output_type": "stream",
     "text": [
      "D:\\installations\\Anaconda\\lib\\site-packages\\seaborn\\distributions.py:288: UserWarning: Data must have variance to compute a kernel density estimate.\n",
      "  warnings.warn(msg, UserWarning)\n",
      "D:\\installations\\Anaconda\\lib\\site-packages\\seaborn\\distributions.py:288: UserWarning: Data must have variance to compute a kernel density estimate.\n",
      "  warnings.warn(msg, UserWarning)\n"
     ]
    },
    {
     "data": {
      "image/png": "[encoded data removed]",
      "text/plain": [
       "<Figure size 1440x21600 with 3 Axes>"
      ]
     },
     "metadata": {},
     "output_type": "display_data"
    }
   ],
   "source": [
    "plt.figure(figsize=(20,30*10))\n",
    "import matplotlib.gridspec as gridspec\n",
    "features = df.iloc[:,0:30].columns\n",
    "gs = gridspec.GridSpec(30, 1)\n",
    "for i, feature in enumerate(df[features]):\n",
    "    ax = plt.subplot(gs[i])\n",
    "    sns.distplot(df[feature][df.Class == 1], bins=50)\n",
    "    sns.distplot(df[feature][df.Class == 0], bins=50)\n",
    "    ax.set_xlabel('')\n",
    "    ax.set_title('Feature: ' + str(feature))\n",
    "plt.show()"
   ]
  },
  {
   "cell_type": "markdown",
   "metadata": {},
   "source": [
    "# Model Building"
   ]
  },
  {
   "cell_type": "code",
   "execution_count": 67,
   "metadata": {},
   "outputs": [],
   "source": [
    "X = data.drop('Class',axis=1)\n",
    "y= data['Class']"
   ]
  },
  {
   "cell_type": "code",
   "execution_count": 68,
   "metadata": {},
   "outputs": [
    {
     "data": {
      "application/javascript": [
       "\n",
       "        if (window._pyforest_update_imports_cell) { window._pyforest_update_imports_cell('import pandas as pd\\nimport matplotlib.pyplot as plt\\nimport seaborn as sns\\nimport numpy as np\\nfrom sklearn.model_selection import train_test_split'); }\n",
       "    "
      ],
      "text/plain": [
       "<IPython.core.display.Javascript object>"
      ]
     },
     "metadata": {},
     "output_type": "display_data"
    }
   ],
   "source": [
    "X_train,X_test,y_train,y_test = train_test_split(X,y,test_size=0.30, random_state=2)"
   ]
  },
  {
   "cell_type": "code",
   "execution_count": 69,
   "metadata": {},
   "outputs": [
    {
     "data": {
      "application/javascript": [
       "\n",
       "        if (window._pyforest_update_imports_cell) { window._pyforest_update_imports_cell('import pandas as pd\\nimport matplotlib.pyplot as plt\\nimport seaborn as sns\\nimport numpy as np\\nfrom sklearn.model_selection import train_test_split'); }\n",
       "    "
      ],
      "text/plain": [
       "<IPython.core.display.Javascript object>"
      ]
     },
     "metadata": {},
     "output_type": "display_data"
    },
    {
     "data": {
      "text/html": [
       "<div>\n",
       "<style scoped>\n",
       "    .dataframe tbody tr th:only-of-type {\n",
       "        vertical-align: middle;\n",
       "    }\n",
       "\n",
       "    .dataframe tbody tr th {\n",
       "        vertical-align: top;\n",
       "    }\n",
       "\n",
       "    .dataframe thead th {\n",
       "        text-align: right;\n",
       "    }\n",
       "</style>\n",
       "<table border=\"1\" class=\"dataframe\">\n",
       "  <thead>\n",
       "    <tr style=\"text-align: right;\">\n",
       "      <th></th>\n",
       "      <th>Time</th>\n",
       "      <th>V1</th>\n",
       "      <th>V2</th>\n",
       "      <th>V3</th>\n",
       "      <th>V4</th>\n",
       "      <th>V5</th>\n",
       "      <th>V6</th>\n",
       "      <th>V7</th>\n",
       "      <th>V8</th>\n",
       "      <th>V9</th>\n",
       "      <th>...</th>\n",
       "      <th>V21</th>\n",
       "      <th>V22</th>\n",
       "      <th>V23</th>\n",
       "      <th>V24</th>\n",
       "      <th>V25</th>\n",
       "      <th>V26</th>\n",
       "      <th>V27</th>\n",
       "      <th>V28</th>\n",
       "      <th>Amount</th>\n",
       "      <th>Class</th>\n",
       "    </tr>\n",
       "  </thead>\n",
       "  <tbody>\n",
       "    <tr>\n",
       "      <th>2426</th>\n",
       "      <td>1998.0</td>\n",
       "      <td>-1.493109</td>\n",
       "      <td>1.504546</td>\n",
       "      <td>1.218875</td>\n",
       "      <td>0.741269</td>\n",
       "      <td>0.590354</td>\n",
       "      <td>0.542055</td>\n",
       "      <td>1.002090</td>\n",
       "      <td>-0.341592</td>\n",
       "      <td>1.036933</td>\n",
       "      <td>...</td>\n",
       "      <td>-0.334599</td>\n",
       "      <td>0.256465</td>\n",
       "      <td>-0.180672</td>\n",
       "      <td>-0.318639</td>\n",
       "      <td>0.096885</td>\n",
       "      <td>-0.288423</td>\n",
       "      <td>0.326771</td>\n",
       "      <td>-0.122804</td>\n",
       "      <td>5.99</td>\n",
       "      <td>0</td>\n",
       "    </tr>\n",
       "    <tr>\n",
       "      <th>273831</th>\n",
       "      <td>165717.0</td>\n",
       "      <td>1.882512</td>\n",
       "      <td>-1.246004</td>\n",
       "      <td>-1.261235</td>\n",
       "      <td>-2.214129</td>\n",
       "      <td>-0.652094</td>\n",
       "      <td>-0.455959</td>\n",
       "      <td>-0.548944</td>\n",
       "      <td>-0.031293</td>\n",
       "      <td>2.436652</td>\n",
       "      <td>...</td>\n",
       "      <td>0.290441</td>\n",
       "      <td>0.831404</td>\n",
       "      <td>-0.157292</td>\n",
       "      <td>-1.007042</td>\n",
       "      <td>0.088092</td>\n",
       "      <td>-0.711502</td>\n",
       "      <td>0.049068</td>\n",
       "      <td>-0.037816</td>\n",
       "      <td>120.77</td>\n",
       "      <td>0</td>\n",
       "    </tr>\n",
       "    <tr>\n",
       "      <th>111538</th>\n",
       "      <td>72264.0</td>\n",
       "      <td>-2.616714</td>\n",
       "      <td>-1.670963</td>\n",
       "      <td>1.088904</td>\n",
       "      <td>0.562648</td>\n",
       "      <td>1.926064</td>\n",
       "      <td>-0.106636</td>\n",
       "      <td>-0.264908</td>\n",
       "      <td>0.587695</td>\n",
       "      <td>0.031149</td>\n",
       "      <td>...</td>\n",
       "      <td>-0.287822</td>\n",
       "      <td>-0.063602</td>\n",
       "      <td>2.187033</td>\n",
       "      <td>-0.769500</td>\n",
       "      <td>-0.073056</td>\n",
       "      <td>0.260426</td>\n",
       "      <td>0.475727</td>\n",
       "      <td>-0.153728</td>\n",
       "      <td>1.79</td>\n",
       "      <td>0</td>\n",
       "    </tr>\n",
       "    <tr>\n",
       "      <th>252280</th>\n",
       "      <td>155735.0</td>\n",
       "      <td>1.224944</td>\n",
       "      <td>-1.472840</td>\n",
       "      <td>-0.858202</td>\n",
       "      <td>0.569373</td>\n",
       "      <td>-0.740161</td>\n",
       "      <td>-0.142346</td>\n",
       "      <td>0.094122</td>\n",
       "      <td>-0.103440</td>\n",
       "      <td>0.781506</td>\n",
       "      <td>...</td>\n",
       "      <td>0.049060</td>\n",
       "      <td>-0.579501</td>\n",
       "      <td>-0.010561</td>\n",
       "      <td>-0.340668</td>\n",
       "      <td>-0.533698</td>\n",
       "      <td>-0.707276</td>\n",
       "      <td>-0.040171</td>\n",
       "      <td>0.024283</td>\n",
       "      <td>392.60</td>\n",
       "      <td>0</td>\n",
       "    </tr>\n",
       "    <tr>\n",
       "      <th>281542</th>\n",
       "      <td>170252.0</td>\n",
       "      <td>-1.791497</td>\n",
       "      <td>-0.051034</td>\n",
       "      <td>3.067529</td>\n",
       "      <td>3.683853</td>\n",
       "      <td>-1.830843</td>\n",
       "      <td>2.302404</td>\n",
       "      <td>0.733966</td>\n",
       "      <td>0.340065</td>\n",
       "      <td>0.162149</td>\n",
       "      <td>...</td>\n",
       "      <td>-0.023135</td>\n",
       "      <td>0.511261</td>\n",
       "      <td>-0.344378</td>\n",
       "      <td>0.066365</td>\n",
       "      <td>0.377551</td>\n",
       "      <td>0.283631</td>\n",
       "      <td>0.094240</td>\n",
       "      <td>0.074318</td>\n",
       "      <td>383.69</td>\n",
       "      <td>0</td>\n",
       "    </tr>\n",
       "  </tbody>\n",
       "</table>\n",
       "<p>5 rows × 31 columns</p>\n",
       "</div>"
      ],
      "text/plain": [
       "            Time        V1        V2        V3        V4        V5        V6  \\\n",
       "2426      1998.0 -1.493109  1.504546  1.218875  0.741269  0.590354  0.542055   \n",
       "273831  165717.0  1.882512 -1.246004 -1.261235 -2.214129 -0.652094 -0.455959   \n",
       "111538   72264.0 -2.616714 -1.670963  1.088904  0.562648  1.926064 -0.106636   \n",
       "252280  155735.0  1.224944 -1.472840 -0.858202  0.569373 -0.740161 -0.142346   \n",
       "281542  170252.0 -1.791497 -0.051034  3.067529  3.683853 -1.830843  2.302404   \n",
       "\n",
       "              V7        V8        V9  ...       V21       V22       V23  \\\n",
       "2426    1.002090 -0.341592  1.036933  ... -0.334599  0.256465 -0.180672   \n",
       "273831 -0.548944 -0.031293  2.436652  ...  0.290441  0.831404 -0.157292   \n",
       "111538 -0.264908  0.587695  0.031149  ... -0.287822 -0.063602  2.187033   \n",
       "252280  0.094122 -0.103440  0.781506  ...  0.049060 -0.579501 -0.010561   \n",
       "281542  0.733966  0.340065  0.162149  ... -0.023135  0.511261 -0.344378   \n",
       "\n",
       "             V24       V25       V26       V27       V28  Amount  Class  \n",
       "2426   -0.318639  0.096885 -0.288423  0.326771 -0.122804    5.99      0  \n",
       "273831 -1.007042  0.088092 -0.711502  0.049068 -0.037816  120.77      0  \n",
       "111538 -0.769500 -0.073056  0.260426  0.475727 -0.153728    1.79      0  \n",
       "252280 -0.340668 -0.533698 -0.707276 -0.040171  0.024283  392.60      0  \n",
       "281542  0.066365  0.377551  0.283631  0.094240  0.074318  383.69      0  \n",
       "\n",
       "[5 rows x 31 columns]"
      ]
     },
     "execution_count": 69,
     "metadata": {},
     "output_type": "execute_result"
    }
   ],
   "source": [
    "# concatenate out training data back together\n",
    "X = pd.concat([X_train,y_train],axis=1)\n",
    "X.head()"
   ]
  },
  {
   "cell_type": "markdown",
   "metadata": {},
   "source": [
    "# Using Dummy Classifier to verify the inbalance data output"
   ]
  },
  {
   "cell_type": "code",
   "execution_count": 70,
   "metadata": {},
   "outputs": [],
   "source": [
    "from sklearn.dummy import DummyClassifier"
   ]
  },
  {
   "cell_type": "code",
   "execution_count": 71,
   "metadata": {},
   "outputs": [],
   "source": [
    "dummy = DummyClassifier(strategy='prior')"
   ]
  },
  {
   "cell_type": "code",
   "execution_count": 72,
   "metadata": {},
   "outputs": [
    {
     "data": {
      "text/plain": [
       "DummyClassifier(strategy='prior')"
      ]
     },
     "execution_count": 72,
     "metadata": {},
     "output_type": "execute_result"
    }
   ],
   "source": [
    "dummy.fit(X_train,y_train)"
   ]
  },
  {
   "cell_type": "code",
   "execution_count": 73,
   "metadata": {},
   "outputs": [],
   "source": [
    "dummy_pred = dummy.predict(X_test)"
   ]
  },
  {
   "cell_type": "code",
   "execution_count": 74,
   "metadata": {},
   "outputs": [
    {
     "data": {
      "text/plain": [
       "array([0, 0, 0, ..., 0, 0, 0], dtype=int64)"
      ]
     },
     "execution_count": 74,
     "metadata": {},
     "output_type": "execute_result"
    }
   ],
   "source": [
    "dummy_pred"
   ]
  },
  {
   "cell_type": "code",
   "execution_count": 75,
   "metadata": {},
   "outputs": [],
   "source": [
    "from sklearn.metrics import precision_score, accuracy_score,recall_score,precision_recall_curve,f1_score,confusion_matrix"
   ]
  },
  {
   "cell_type": "code",
   "execution_count": 76,
   "metadata": {},
   "outputs": [
    {
     "data": {
      "application/javascript": [
       "\n",
       "        if (window._pyforest_update_imports_cell) { window._pyforest_update_imports_cell('import pandas as pd\\nimport matplotlib.pyplot as plt\\nimport seaborn as sns\\nimport numpy as np\\nfrom sklearn.model_selection import train_test_split'); }\n",
       "    "
      ],
      "text/plain": [
       "<IPython.core.display.Javascript object>"
      ]
     },
     "metadata": {},
     "output_type": "display_data"
    },
    {
     "name": "stdout",
     "output_type": "stream",
     "text": [
      "Unique predicted labels:  [0]\n",
      "Test score:  0.9984317030066828\n"
     ]
    }
   ],
   "source": [
    "# Checking unique labels\n",
    "print('Unique predicted labels: ',np.unique(dummy_pred))\n",
    "\n",
    "# Checking Accuracy\n",
    "print('Test score: ', accuracy_score(y_test,dummy_pred))"
   ]
  },
  {
   "cell_type": "markdown",
   "metadata": {},
   "source": [
    "# Upsampling"
   ]
  },
  {
   "cell_type": "code",
   "execution_count": 77,
   "metadata": {},
   "outputs": [
    {
     "data": {
      "application/javascript": [
       "\n",
       "        if (window._pyforest_update_imports_cell) { window._pyforest_update_imports_cell('import pandas as pd\\nimport matplotlib.pyplot as plt\\nimport seaborn as sns\\nimport numpy as np\\nfrom sklearn.model_selection import train_test_split'); }\n",
       "    "
      ],
      "text/plain": [
       "<IPython.core.display.Javascript object>"
      ]
     },
     "metadata": {},
     "output_type": "display_data"
    },
    {
     "data": {
      "text/plain": [
       "1    199006\n",
       "0    199006\n",
       "Name: Class, dtype: int64"
      ]
     },
     "execution_count": 77,
     "metadata": {},
     "output_type": "execute_result"
    }
   ],
   "source": [
    "# separate minority and majority classes\n",
    "from sklearn.utils import resample\n",
    "\n",
    "not_fraud = X[X.Class==0]\n",
    "fraud = X[X.Class==1]\n",
    "\n",
    "# upsample minority\n",
    "fraud_upsampled = resample(fraud,\n",
    "                           replace=True, # Sample with replacement\n",
    "                          n_samples=len(not_fraud), # match number in majority class\n",
    "                          random_state=27) # reproducible results\n",
    "#combine majority and upsample minority\n",
    "upsampled = pd.concat([not_fraud, fraud_upsampled])\n",
    "\n",
    "# check new class counts\n",
    "upsampled.Class.value_counts()"
   ]
  },
  {
   "cell_type": "markdown",
   "metadata": {},
   "source": [
    "# Logistic Regression witt balanced dataset"
   ]
  },
  {
   "cell_type": "code",
   "execution_count": 78,
   "metadata": {},
   "outputs": [],
   "source": [
    "from sklearn.linear_model import LogisticRegression\n",
    "\n",
    "y_train = upsampled.Class\n",
    "X_train = upsampled.drop('Class', axis=1)\n",
    "\n",
    "upsampled = LogisticRegression(solver='liblinear').fit(X_train,y_train)\n",
    "\n",
    "upsampled_pred = upsampled.predict(X_test)"
   ]
  },
  {
   "cell_type": "code",
   "execution_count": 79,
   "metadata": {},
   "outputs": [
    {
     "data": {
      "text/plain": [
       "LogisticRegression(solver='liblinear')"
      ]
     },
     "execution_count": 79,
     "metadata": {},
     "output_type": "execute_result"
    }
   ],
   "source": [
    "upsampled"
   ]
  },
  {
   "cell_type": "code",
   "execution_count": 80,
   "metadata": {},
   "outputs": [
    {
     "data": {
      "text/plain": [
       "0.9767564341139707"
      ]
     },
     "execution_count": 80,
     "metadata": {},
     "output_type": "execute_result"
    }
   ],
   "source": [
    "accuracy_score(y_test,upsampled_pred)"
   ]
  },
  {
   "cell_type": "code",
   "execution_count": 81,
   "metadata": {},
   "outputs": [
    {
     "name": "stdout",
     "output_type": "stream",
     "text": [
      "Logistic Regression Classification Report\n",
      "..............................\n",
      "              precision    recall  f1-score   support\n",
      "\n",
      "           0       1.00      0.98      0.99     85309\n",
      "           1       0.06      0.89      0.11       134\n",
      "\n",
      "    accuracy                           0.98     85443\n",
      "   macro avg       0.53      0.93      0.55     85443\n",
      "weighted avg       1.00      0.98      0.99     85443\n",
      "\n"
     ]
    }
   ],
   "source": [
    "from sklearn.metrics import classification_report\n",
    "\n",
    "print('Logistic Regression Classification Report')\n",
    "\n",
    "print('...'*10)\n",
    "print(classification_report(y_test,upsampled_pred))"
   ]
  },
  {
   "cell_type": "code",
   "execution_count": 82,
   "metadata": {},
   "outputs": [
    {
     "data": {
      "application/javascript": [
       "\n",
       "        if (window._pyforest_update_imports_cell) { window._pyforest_update_imports_cell('import pandas as pd\\nimport matplotlib.pyplot as plt\\nimport seaborn as sns\\nimport numpy as np\\nfrom sklearn.model_selection import train_test_split'); }\n",
       "    "
      ],
      "text/plain": [
       "<IPython.core.display.Javascript object>"
      ]
     },
     "metadata": {},
     "output_type": "display_data"
    },
    {
     "data": {
      "text/html": [
       "<div>\n",
       "<style scoped>\n",
       "    .dataframe tbody tr th:only-of-type {\n",
       "        vertical-align: middle;\n",
       "    }\n",
       "\n",
       "    .dataframe tbody tr th {\n",
       "        vertical-align: top;\n",
       "    }\n",
       "\n",
       "    .dataframe thead th {\n",
       "        text-align: right;\n",
       "    }\n",
       "</style>\n",
       "<table border=\"1\" class=\"dataframe\">\n",
       "  <thead>\n",
       "    <tr style=\"text-align: right;\">\n",
       "      <th></th>\n",
       "      <th>0</th>\n",
       "      <th>1</th>\n",
       "    </tr>\n",
       "  </thead>\n",
       "  <tbody>\n",
       "    <tr>\n",
       "      <th>0</th>\n",
       "      <td>83338</td>\n",
       "      <td>1971</td>\n",
       "    </tr>\n",
       "    <tr>\n",
       "      <th>1</th>\n",
       "      <td>15</td>\n",
       "      <td>119</td>\n",
       "    </tr>\n",
       "  </tbody>\n",
       "</table>\n",
       "</div>"
      ],
      "text/plain": [
       "       0     1\n",
       "0  83338  1971\n",
       "1     15   119"
      ]
     },
     "execution_count": 82,
     "metadata": {},
     "output_type": "execute_result"
    }
   ],
   "source": [
    "# Confusion matrix\n",
    "pd.DataFrame(confusion_matrix(y_test,upsampled_pred))"
   ]
  },
  {
   "cell_type": "markdown",
   "metadata": {},
   "source": [
    "# DownSampling"
   ]
  },
  {
   "cell_type": "code",
   "execution_count": 83,
   "metadata": {},
   "outputs": [
    {
     "data": {
      "application/javascript": [
       "\n",
       "        if (window._pyforest_update_imports_cell) { window._pyforest_update_imports_cell('import pandas as pd\\nimport matplotlib.pyplot as plt\\nimport seaborn as sns\\nimport numpy as np\\nfrom sklearn.model_selection import train_test_split'); }\n",
       "    "
      ],
      "text/plain": [
       "<IPython.core.display.Javascript object>"
      ]
     },
     "metadata": {},
     "output_type": "display_data"
    },
    {
     "data": {
      "text/plain": [
       "1    358\n",
       "0    358\n",
       "Name: Class, dtype: int64"
      ]
     },
     "execution_count": 83,
     "metadata": {},
     "output_type": "execute_result"
    }
   ],
   "source": [
    "# separate minority and majority classes\n",
    "from sklearn.utils import resample\n",
    "\n",
    "not_fraud = X[X.Class==0]\n",
    "fraud = X[X.Class==1]\n",
    "\n",
    "# upsample minority\n",
    "not_fraud_downsampled = resample(not_fraud,\n",
    "                           replace=True, # Sample with replacement\n",
    "                          n_samples=len(fraud), # match number in majority class\n",
    "                          random_state=27) # reproducible results\n",
    "#combine majority and upsample minority\n",
    "downsampled = pd.concat([fraud, not_fraud_downsampled])\n",
    "\n",
    "# check new class counts\n",
    "downsampled.Class.value_counts()"
   ]
  },
  {
   "cell_type": "code",
   "execution_count": 84,
   "metadata": {},
   "outputs": [],
   "source": [
    "y_train = downsampled.Class\n",
    "X_train = downsampled.drop('Class', axis=1)\n",
    "\n",
    "downsampled = LogisticRegression(solver='liblinear').fit(X_train,y_train)\n",
    "\n",
    "downsampled_pred = downsampled.predict(X_test)"
   ]
  },
  {
   "cell_type": "code",
   "execution_count": 85,
   "metadata": {},
   "outputs": [
    {
     "data": {
      "text/plain": [
       "array([0, 0, 0, ..., 0, 0, 0], dtype=int64)"
      ]
     },
     "execution_count": 85,
     "metadata": {},
     "output_type": "execute_result"
    }
   ],
   "source": [
    "downsampled_pred"
   ]
  },
  {
   "cell_type": "code",
   "execution_count": 86,
   "metadata": {},
   "outputs": [
    {
     "data": {
      "text/plain": [
       "0.9623023536158609"
      ]
     },
     "execution_count": 86,
     "metadata": {},
     "output_type": "execute_result"
    }
   ],
   "source": [
    "accuracy_score(y_test,downsampled_pred)"
   ]
  },
  {
   "cell_type": "code",
   "execution_count": 87,
   "metadata": {},
   "outputs": [
    {
     "name": "stdout",
     "output_type": "stream",
     "text": [
      "Logistic Regression Classification Report\n",
      "..............................\n",
      "              precision    recall  f1-score   support\n",
      "\n",
      "           0       1.00      0.96      0.98     85309\n",
      "           1       0.04      0.92      0.07       134\n",
      "\n",
      "    accuracy                           0.96     85443\n",
      "   macro avg       0.52      0.94      0.53     85443\n",
      "weighted avg       1.00      0.96      0.98     85443\n",
      "\n"
     ]
    }
   ],
   "source": [
    "from sklearn.metrics import classification_report\n",
    "\n",
    "print('Logistic Regression Classification Report')\n",
    "\n",
    "print('...'*10)\n",
    "print(classification_report(y_test,downsampled_pred))"
   ]
  },
  {
   "cell_type": "code",
   "execution_count": 88,
   "metadata": {},
   "outputs": [
    {
     "data": {
      "application/javascript": [
       "\n",
       "        if (window._pyforest_update_imports_cell) { window._pyforest_update_imports_cell('import pandas as pd\\nimport matplotlib.pyplot as plt\\nimport seaborn as sns\\nimport numpy as np\\nfrom sklearn.model_selection import train_test_split'); }\n",
       "    "
      ],
      "text/plain": [
       "<IPython.core.display.Javascript object>"
      ]
     },
     "metadata": {},
     "output_type": "display_data"
    },
    {
     "data": {
      "text/html": [
       "<div>\n",
       "<style scoped>\n",
       "    .dataframe tbody tr th:only-of-type {\n",
       "        vertical-align: middle;\n",
       "    }\n",
       "\n",
       "    .dataframe tbody tr th {\n",
       "        vertical-align: top;\n",
       "    }\n",
       "\n",
       "    .dataframe thead th {\n",
       "        text-align: right;\n",
       "    }\n",
       "</style>\n",
       "<table border=\"1\" class=\"dataframe\">\n",
       "  <thead>\n",
       "    <tr style=\"text-align: right;\">\n",
       "      <th></th>\n",
       "      <th>0</th>\n",
       "      <th>1</th>\n",
       "    </tr>\n",
       "  </thead>\n",
       "  <tbody>\n",
       "    <tr>\n",
       "      <th>0</th>\n",
       "      <td>82099</td>\n",
       "      <td>3210</td>\n",
       "    </tr>\n",
       "    <tr>\n",
       "      <th>1</th>\n",
       "      <td>11</td>\n",
       "      <td>123</td>\n",
       "    </tr>\n",
       "  </tbody>\n",
       "</table>\n",
       "</div>"
      ],
      "text/plain": [
       "       0     1\n",
       "0  82099  3210\n",
       "1     11   123"
      ]
     },
     "execution_count": 88,
     "metadata": {},
     "output_type": "execute_result"
    }
   ],
   "source": [
    "# Confusion matrix\n",
    "pd.DataFrame(confusion_matrix(y_test,downsampled_pred))"
   ]
  },
  {
   "cell_type": "markdown",
   "metadata": {},
   "source": [
    "# Generate Synthetic Samples"
   ]
  },
  {
   "cell_type": "markdown",
   "metadata": {},
   "source": [
    "**SMOTE(SMOTE or Synthetic Minority Oversampling Technique)**\n",
    "\n",
    "SMOTE or Synthetic Oversampling is a popular algorithm to creates sythetic observations of the minority class."
   ]
  },
  {
   "cell_type": "code",
   "execution_count": 89,
   "metadata": {},
   "outputs": [],
   "source": [
    "from imblearn.over_sampling import SMOTE"
   ]
  },
  {
   "cell_type": "code",
   "execution_count": 90,
   "metadata": {},
   "outputs": [
    {
     "data": {
      "application/javascript": [
       "\n",
       "        if (window._pyforest_update_imports_cell) { window._pyforest_update_imports_cell('import pandas as pd\\nimport matplotlib.pyplot as plt\\nimport seaborn as sns\\nimport numpy as np\\nfrom sklearn.model_selection import train_test_split'); }\n",
       "    "
      ],
      "text/plain": [
       "<IPython.core.display.Javascript object>"
      ]
     },
     "metadata": {},
     "output_type": "display_data"
    }
   ],
   "source": [
    "X = df.drop('Class',axis=1)\n",
    "y = df.Class\n",
    "\n",
    "X_train1, X_test1,y_train1,y_test1 = train_test_split(X,y,test_size=0.30,random_state=20)"
   ]
  },
  {
   "cell_type": "code",
   "execution_count": 91,
   "metadata": {},
   "outputs": [],
   "source": [
    "sm = SMOTE(random_state=20)\n",
    "X_train1, y_train1 = sm.fit_sample(X_train1,y_train1)"
   ]
  },
  {
   "cell_type": "code",
   "execution_count": 92,
   "metadata": {},
   "outputs": [
    {
     "data": {
      "text/plain": [
       "0.8925131374132462"
      ]
     },
     "execution_count": 92,
     "metadata": {},
     "output_type": "execute_result"
    }
   ],
   "source": [
    "smote = LogisticRegression(solver='liblinear').fit(X_train1,y_train1)\n",
    "\n",
    "smote_pred = smote.predict(X_test1)\n",
    "\n",
    "#Checking Accuracy\n",
    "accuracy_score(y_test1,smote_pred)"
   ]
  },
  {
   "cell_type": "code",
   "execution_count": 94,
   "metadata": {},
   "outputs": [
    {
     "data": {
      "application/javascript": [
       "\n",
       "        if (window._pyforest_update_imports_cell) { window._pyforest_update_imports_cell('import pandas as pd\\nimport matplotlib.pyplot as plt\\nimport seaborn as sns\\nimport numpy as np\\nfrom sklearn.model_selection import train_test_split'); }\n",
       "    "
      ],
      "text/plain": [
       "<IPython.core.display.Javascript object>"
      ]
     },
     "metadata": {},
     "output_type": "display_data"
    },
    {
     "data": {
      "text/html": [
       "<div>\n",
       "<style scoped>\n",
       "    .dataframe tbody tr th:only-of-type {\n",
       "        vertical-align: middle;\n",
       "    }\n",
       "\n",
       "    .dataframe tbody tr th {\n",
       "        vertical-align: top;\n",
       "    }\n",
       "\n",
       "    .dataframe thead th {\n",
       "        text-align: right;\n",
       "    }\n",
       "</style>\n",
       "<table border=\"1\" class=\"dataframe\">\n",
       "  <thead>\n",
       "    <tr style=\"text-align: right;\">\n",
       "      <th></th>\n",
       "      <th>0</th>\n",
       "      <th>1</th>\n",
       "    </tr>\n",
       "  </thead>\n",
       "  <tbody>\n",
       "    <tr>\n",
       "      <th>0</th>\n",
       "      <td>76229</td>\n",
       "      <td>9078</td>\n",
       "    </tr>\n",
       "    <tr>\n",
       "      <th>1</th>\n",
       "      <td>106</td>\n",
       "      <td>30</td>\n",
       "    </tr>\n",
       "  </tbody>\n",
       "</table>\n",
       "</div>"
      ],
      "text/plain": [
       "       0     1\n",
       "0  76229  9078\n",
       "1    106    30"
      ]
     },
     "execution_count": 94,
     "metadata": {},
     "output_type": "execute_result"
    }
   ],
   "source": [
    "pd.DataFrame(confusion_matrix(y_test1, smote_pred))"
   ]
  },
  {
   "cell_type": "code",
   "execution_count": 95,
   "metadata": {},
   "outputs": [],
   "source": [
    "from sklearn.ensemble import RandomForestClassifier"
   ]
  },
  {
   "cell_type": "code",
   "execution_count": 97,
   "metadata": {},
   "outputs": [],
   "source": [
    "rf = RandomForestClassifier(n_estimators=10).fit(X_train,y_train)"
   ]
  },
  {
   "cell_type": "code",
   "execution_count": 98,
   "metadata": {},
   "outputs": [],
   "source": [
    "rf_pred = rf.predict(X_test)"
   ]
  },
  {
   "cell_type": "code",
   "execution_count": 99,
   "metadata": {},
   "outputs": [
    {
     "data": {
      "text/plain": [
       "0.9687042823870885"
      ]
     },
     "execution_count": 99,
     "metadata": {},
     "output_type": "execute_result"
    }
   ],
   "source": [
    "accuracy_score(y_test,rf_pred)"
   ]
  },
  {
   "cell_type": "code",
   "execution_count": 100,
   "metadata": {},
   "outputs": [],
   "source": [
    "from sklearn.naive_bayes import GaussianNB"
   ]
  },
  {
   "cell_type": "code",
   "execution_count": 101,
   "metadata": {},
   "outputs": [],
   "source": [
    "gnb = GaussianNB().fit(X_train,y_train)"
   ]
  },
  {
   "cell_type": "code",
   "execution_count": 102,
   "metadata": {},
   "outputs": [],
   "source": [
    "gnb_pred = gnb.predict(X_test)"
   ]
  },
  {
   "cell_type": "code",
   "execution_count": 103,
   "metadata": {},
   "outputs": [
    {
     "data": {
      "text/plain": [
       "0.9907423662558665"
      ]
     },
     "execution_count": 103,
     "metadata": {},
     "output_type": "execute_result"
    }
   ],
   "source": [
    "accuracy_score(y_test,gnb_pred)"
   ]
  },
  {
   "cell_type": "code",
   "execution_count": 105,
   "metadata": {},
   "outputs": [
    {
     "data": {
      "application/javascript": [
       "\n",
       "        if (window._pyforest_update_imports_cell) { window._pyforest_update_imports_cell('import pandas as pd\\nimport matplotlib.pyplot as plt\\nimport seaborn as sns\\nimport numpy as np\\nfrom sklearn.model_selection import train_test_split\\nfrom sklearn.ensemble import RandomForestRegressor'); }\n",
       "    "
      ],
      "text/plain": [
       "<IPython.core.display.Javascript object>"
      ]
     },
     "metadata": {},
     "output_type": "display_data"
    },
    {
     "data": {
      "text/html": [
       "<div>\n",
       "<style scoped>\n",
       "    .dataframe tbody tr th:only-of-type {\n",
       "        vertical-align: middle;\n",
       "    }\n",
       "\n",
       "    .dataframe tbody tr th {\n",
       "        vertical-align: top;\n",
       "    }\n",
       "\n",
       "    .dataframe thead th {\n",
       "        text-align: right;\n",
       "    }\n",
       "</style>\n",
       "<table border=\"1\" class=\"dataframe\">\n",
       "  <thead>\n",
       "    <tr style=\"text-align: right;\">\n",
       "      <th></th>\n",
       "      <th>0</th>\n",
       "      <th>1</th>\n",
       "    </tr>\n",
       "  </thead>\n",
       "  <tbody>\n",
       "    <tr>\n",
       "      <th>0</th>\n",
       "      <td>84545</td>\n",
       "      <td>764</td>\n",
       "    </tr>\n",
       "    <tr>\n",
       "      <th>1</th>\n",
       "      <td>27</td>\n",
       "      <td>107</td>\n",
       "    </tr>\n",
       "  </tbody>\n",
       "</table>\n",
       "</div>"
      ],
      "text/plain": [
       "       0    1\n",
       "0  84545  764\n",
       "1     27  107"
      ]
     },
     "execution_count": 105,
     "metadata": {},
     "output_type": "execute_result"
    }
   ],
   "source": [
    "pd.DataFrame(confusion_matrix(y_test,gnb_pred))"
   ]
  },
  {
   "cell_type": "markdown",
   "metadata": {},
   "source": [
    "## GridSearchCV"
   ]
  },
  {
   "cell_type": "code",
   "execution_count": 109,
   "metadata": {},
   "outputs": [],
   "source": [
    "from sklearn.model_selection import GridSearchCV"
   ]
  },
  {
   "cell_type": "code",
   "execution_count": 110,
   "metadata": {},
   "outputs": [
    {
     "data": {
      "application/javascript": [
       "\n",
       "        if (window._pyforest_update_imports_cell) { window._pyforest_update_imports_cell('import sklearn\\nimport pandas as pd\\nimport matplotlib.pyplot as plt\\nimport seaborn as sns\\nfrom sklearn import svm\\nimport numpy as np\\nfrom sklearn.model_selection import train_test_split\\nfrom sklearn.ensemble import RandomForestRegressor'); }\n",
       "    "
      ],
      "text/plain": [
       "<IPython.core.display.Javascript object>"
      ]
     },
     "metadata": {},
     "output_type": "display_data"
    },
    {
     "data": {
      "text/plain": [
       "dict_keys(['explained_variance', 'r2', 'max_error', 'neg_median_absolute_error', 'neg_mean_absolute_error', 'neg_mean_squared_error', 'neg_mean_squared_log_error', 'neg_root_mean_squared_error', 'neg_mean_poisson_deviance', 'neg_mean_gamma_deviance', 'accuracy', 'roc_auc', 'roc_auc_ovr', 'roc_auc_ovo', 'roc_auc_ovr_weighted', 'roc_auc_ovo_weighted', 'balanced_accuracy', 'average_precision', 'neg_log_loss', 'neg_brier_score', 'adjusted_rand_score', 'homogeneity_score', 'completeness_score', 'v_measure_score', 'mutual_info_score', 'adjusted_mutual_info_score', 'normalized_mutual_info_score', 'fowlkes_mallows_score', 'precision', 'precision_macro', 'precision_micro', 'precision_samples', 'precision_weighted', 'recall', 'recall_macro', 'recall_micro', 'recall_samples', 'recall_weighted', 'f1', 'f1_macro', 'f1_micro', 'f1_samples', 'f1_weighted', 'jaccard', 'jaccard_macro', 'jaccard_micro', 'jaccard_samples', 'jaccard_weighted'])"
      ]
     },
     "execution_count": 110,
     "metadata": {},
     "output_type": "execute_result"
    }
   ],
   "source": [
    "sklearn.metrics.SCORERS.keys()"
   ]
  },
  {
   "cell_type": "code",
   "execution_count": 112,
   "metadata": {
    "scrolled": true
   },
   "outputs": [
    {
     "data": {
      "application/javascript": [
       "\n",
       "        if (window._pyforest_update_imports_cell) { window._pyforest_update_imports_cell('import sklearn\\nimport pandas as pd\\nimport matplotlib.pyplot as plt\\nimport seaborn as sns\\nfrom sklearn import svm\\nimport numpy as np\\nfrom sklearn.model_selection import train_test_split\\nfrom sklearn.ensemble import RandomForestRegressor'); }\n",
       "    "
      ],
      "text/plain": [
       "<IPython.core.display.Javascript object>"
      ]
     },
     "metadata": {},
     "output_type": "display_data"
    },
    {
     "name": "stdout",
     "output_type": "stream",
     "text": [
      "Fitting 5 folds for each of 2 candidates, totalling 10 fits\n"
     ]
    },
    {
     "name": "stderr",
     "output_type": "stream",
     "text": [
      "[Parallel(n_jobs=3)]: Using backend LokyBackend with 3 concurrent workers.\n",
      "[Parallel(n_jobs=3)]: Done   2 tasks      | elapsed:    5.2s\n",
      "[Parallel(n_jobs=3)]: Done   7 out of  10 | elapsed:    6.6s remaining:    2.8s\n",
      "[Parallel(n_jobs=3)]: Done  10 out of  10 | elapsed:    7.3s finished\n"
     ]
    },
    {
     "data": {
      "text/plain": [
       "GridSearchCV(cv=5, estimator=SVC(probability=True), n_jobs=3,\n",
       "             param_grid={'C': [1], 'gamma': [0.001, 0.1]}, scoring='roc_auc',\n",
       "             verbose=10)"
      ]
     },
     "execution_count": 112,
     "metadata": {},
     "output_type": "execute_result"
    }
   ],
   "source": [
    "# Run CV with 5 folds (SVM)\n",
    "\n",
    "C = [1]\n",
    "gammas = [0.001,0.1]\n",
    "param_grid = dict(C=C, gamma=gammas)\n",
    "\n",
    "svm1 = svm.SVC(kernel='rbf',probability=True)\n",
    "svm_grid = GridSearchCV(svm1, param_grid, cv=5, scoring='roc_auc', verbose=10,n_jobs=3)\n",
    "svm_grid.fit(X_train,y_train)"
   ]
  },
  {
   "cell_type": "code",
   "execution_count": 114,
   "metadata": {},
   "outputs": [],
   "source": [
    "grid_pred = svm_grid.predict(X_test)"
   ]
  },
  {
   "cell_type": "code",
   "execution_count": 115,
   "metadata": {},
   "outputs": [
    {
     "data": {
      "text/plain": [
       "0.9380288613461606"
      ]
     },
     "execution_count": 115,
     "metadata": {},
     "output_type": "execute_result"
    }
   ],
   "source": [
    "accuracy_score(y_test, grid_pred)"
   ]
  },
  {
   "cell_type": "code",
   "execution_count": 120,
   "metadata": {},
   "outputs": [
    {
     "data": {
      "application/javascript": [
       "\n",
       "        if (window._pyforest_update_imports_cell) { window._pyforest_update_imports_cell('import sklearn\\nimport pandas as pd\\nimport matplotlib.pyplot as plt\\nimport seaborn as sns\\nfrom sklearn import svm\\nimport numpy as np\\nfrom sklearn.model_selection import train_test_split\\nfrom sklearn.ensemble import RandomForestRegressor'); }\n",
       "    "
      ],
      "text/plain": [
       "<IPython.core.display.Javascript object>"
      ]
     },
     "metadata": {},
     "output_type": "display_data"
    },
    {
     "data": {
      "text/html": [
       "<div>\n",
       "<style scoped>\n",
       "    .dataframe tbody tr th:only-of-type {\n",
       "        vertical-align: middle;\n",
       "    }\n",
       "\n",
       "    .dataframe tbody tr th {\n",
       "        vertical-align: top;\n",
       "    }\n",
       "\n",
       "    .dataframe thead th {\n",
       "        text-align: right;\n",
       "    }\n",
       "</style>\n",
       "<table border=\"1\" class=\"dataframe\">\n",
       "  <thead>\n",
       "    <tr style=\"text-align: right;\">\n",
       "      <th></th>\n",
       "      <th>0</th>\n",
       "      <th>1</th>\n",
       "    </tr>\n",
       "  </thead>\n",
       "  <tbody>\n",
       "    <tr>\n",
       "      <th>0</th>\n",
       "      <td>80112</td>\n",
       "      <td>5197</td>\n",
       "    </tr>\n",
       "    <tr>\n",
       "      <th>1</th>\n",
       "      <td>98</td>\n",
       "      <td>36</td>\n",
       "    </tr>\n",
       "  </tbody>\n",
       "</table>\n",
       "</div>"
      ],
      "text/plain": [
       "       0     1\n",
       "0  80112  5197\n",
       "1     98    36"
      ]
     },
     "execution_count": 120,
     "metadata": {},
     "output_type": "execute_result"
    }
   ],
   "source": [
    "pd.DataFrame(confusion_matrix(y_test,grid_pred))"
   ]
  },
  {
   "cell_type": "markdown",
   "metadata": {},
   "source": [
    "## RandomizedSearchCV"
   ]
  },
  {
   "cell_type": "code",
   "execution_count": 123,
   "metadata": {},
   "outputs": [],
   "source": [
    "import sklearn.metrics as metrics"
   ]
  },
  {
   "cell_type": "code",
   "execution_count": 128,
   "metadata": {},
   "outputs": [
    {
     "data": {
      "application/javascript": [
       "\n",
       "        if (window._pyforest_update_imports_cell) { window._pyforest_update_imports_cell('import sklearn\\nimport pandas as pd\\nimport matplotlib.pyplot as plt\\nimport seaborn as sns\\nfrom sklearn import svm\\nimport numpy as np\\nfrom sklearn.model_selection import train_test_split\\nfrom sklearn.ensemble import RandomForestRegressor'); }\n",
       "    "
      ],
      "text/plain": [
       "<IPython.core.display.Javascript object>"
      ]
     },
     "metadata": {},
     "output_type": "display_data"
    },
    {
     "data": {
      "text/plain": [
       "<matplotlib.legend.Legend at 0x138d51e9108>"
      ]
     },
     "execution_count": 128,
     "metadata": {},
     "output_type": "execute_result"
    },
    {
     "data": {
      "image/png": "[encoded data removed]",
      "text/plain": [
       "<Figure size 1440x1080 with 8 Axes>"
      ]
     },
     "metadata": {},
     "output_type": "display_data"
    }
   ],
   "source": [
    "fig, ax_arr = plt.subplots(nrows = 2, ncols = 4, figsize = (20,15))\n",
    "\n",
    "\n",
    "#----------Dummy---------\n",
    "\n",
    "\n",
    "dummy_pred = dummy.predict(X_test)\n",
    "fprdm, tprdm, thresholddm = metrics.roc_curve(y_test,dummy_pred)\n",
    "roc_aucxgb = metrics.auc(fprdm,tprdm)\n",
    "\n",
    "ax_arr[0,0].plot(fprdm,  tprdm, 'b', label = 'AUC = %0.2f' % roc_aucxgb)\n",
    "ax_arr[0,0].plot([0, 1], [0, 1],'r--')\n",
    "ax_arr[0,0].set_title('Dummy ',fontsize=20)\n",
    "ax_arr[0,0].set_ylabel('True Positive Rate',fontsize=20)\n",
    "ax_arr[0,0].set_xlabel('False Positive Rate',fontsize=15)\n",
    "ax_arr[0,0].legend(loc = 'lower right', prop={'size': 16})\n",
    "\n",
    "\n",
    "#----------Logistics---------\n",
    "\n",
    "downsampled_pred = downsampled.predict(X_test)\n",
    "fprlog, tprlog, thresholdlog = metrics.roc_curve(y_test, downsampled_pred)\n",
    "roc_aucxgb = metrics.auc(fprlog, tprlog)\n",
    "\n",
    "ax_arr[0,1].plot(fprlog, tprlog, 'b', label = 'AUC = %0.2f' % roc_aucxgb)\n",
    "ax_arr[0,1].plot([0, 1], [0, 1],'r--')\n",
    "ax_arr[0,1].set_title('Logistic',fontsize=20)\n",
    "ax_arr[0,1].set_ylabel('True Positive Rate',fontsize=20)\n",
    "ax_arr[0,1].set_xlabel('False Positive Rate',fontsize=15)\n",
    "ax_arr[0,1].legend(loc = 'lower right', prop={'size': 16})\n",
    "\n",
    "\n",
    "#----------SMOTE---------\n",
    "\n",
    "\n",
    "smote_pred = smote.predict(X_test1)\n",
    "#preds = probs[:,1]\n",
    "fprsm, tprsm, thresholdsm = metrics.roc_curve(y_test, smote_pred)\n",
    "roc_aucxgb = metrics.auc(fprsm, tprsm)\n",
    "\n",
    "\n",
    "ax_arr[0,2].plot(fprsm, tprsm, 'b', label = 'AUC = %0.2f' % roc_aucxgb)\n",
    "ax_arr[0,2].plot([0, 1], [0, 1],'r--')\n",
    "ax_arr[0,2].set_title('SMOTE ',fontsize=20)\n",
    "ax_arr[0,2].set_ylabel('True Positive Rate',fontsize=20)\n",
    "ax_arr[0,2].set_xlabel('False Positive Rate',fontsize=15)\n",
    "ax_arr[0,2].legend(loc = 'lower right', prop={'size': 16})\n",
    "\n",
    "\n",
    "\n",
    "#----------GaussianNB---------\n",
    "\n",
    "gnb_pred = gnb.predict(X_test)\n",
    "#preds = probs[:,1]\n",
    "fprgnb, tprgnb, thresholdgnd = metrics.roc_curve(y_test, gnb_pred)\n",
    "roc_aucxgb = metrics.auc(fprgnb, tprgnb)\n",
    "\n",
    "\n",
    "ax_arr[0,3].plot(fprgnb, tprgnb, 'b', label = 'AUC = %0.2f' % roc_aucxgb)\n",
    "ax_arr[0,3].plot([0, 1], [0, 1],'r--')\n",
    "ax_arr[0,3].set_title('GaussianNB',fontsize=20)\n",
    "ax_arr[0,3].set_ylabel('True Positive Rate',fontsize=20)\n",
    "ax_arr[0,3].set_xlabel('False Positive Rate',fontsize=15)\n",
    "ax_arr[0,3].legend(loc = 'lower right', prop={'size': 16})\n",
    "\n",
    "\n",
    "#----------Random Forest---------\n",
    "\n",
    "\n",
    "rf_pred = rf.predict(X_test)\n",
    "#preds = probs[:,1]\n",
    "fprfst, tprfst, thresholdfst = metrics.roc_curve(y_test, rf_pred)\n",
    "roc_aucxgb = metrics.auc(fprfst, tprfst)\n",
    "\n",
    "\n",
    "ax_arr[1,0].plot(fprfst, tprfst, 'b', label = 'AUC = %0.2f' % roc_aucxgb)\n",
    "ax_arr[1,0].plot([0, 1], [0, 1],'r--')\n",
    "ax_arr[1,0].set_title('RandomForest ',fontsize=20)\n",
    "ax_arr[1,0].set_ylabel('True Positive Rate',fontsize=20)\n",
    "ax_arr[1,0].set_xlabel('False Positive Rate',fontsize=15)\n",
    "ax_arr[1,0].legend(loc = 'lower right', prop={'size': 16})\n",
    "\n",
    "\n",
    "#----------GridsearchCV(SVM)---------\n",
    "\n",
    "\n",
    "grid_pred = svm_grid.predict(X_test)\n",
    "fprgsv, tprgsv, thresholdgsv = metrics.roc_curve(y_test, grid_pred )\n",
    "roc_aucxgb = metrics.auc(fprgsv,  tprgsv)\n",
    "ax_arr[1,1].plot(fprgsv,  tprgsv, 'b', label = 'AUC = %0.2f' % roc_aucxgb)\n",
    "ax_arr[1,1].plot([0, 1], [0, 1],'r--')\n",
    "ax_arr[1,1].set_title('GridsearchCV(SVM) ',fontsize=20)\n",
    "ax_arr[1,1].set_ylabel('True Positive Rate',fontsize=20)\n",
    "ax_arr[1,1].set_xlabel('False Positive Rate',fontsize=15)\n",
    "ax_arr[1,1].legend(loc = 'lower right', prop={'size': 16})\n",
    "\n",
    "\n",
    "#----------ALL---------\n",
    "\n",
    "\n",
    "ax_arr[1,2].plot(fprdm, tprdm, 'b', label = 'Dummy', color='black')\n",
    "ax_arr[1,2].plot(fprlog, tprlog, 'b', label = 'Logistic', color='blue')\n",
    "ax_arr[1,2].plot(fprsm, tprsm, 'b', label = 'SMOTE', color='brown')\n",
    "ax_arr[1,2].plot(fprgnb, tprgnb, 'b', label = 'GuassianNB', color='green')\n",
    "ax_arr[1,2].plot(fprfst, tprfst, 'b', label = 'Randomeforest', color='grey')\n",
    "ax_arr[1,2].plot(fprgsv,  tprgsv, 'b', label = 'GridsearchCV(SVM)', color='grey')\n",
    "ax_arr[1,2].set_title('Receiver Operating Comparison ',fontsize=20)\n",
    "ax_arr[1,2].set_ylabel('True Positive Rate',fontsize=20)\n",
    "ax_arr[1,2].set_xlabel('False Positive Rate',fontsize=15)\n",
    "ax_arr[1,2].legend(loc = 'lower right', prop={'size': 16})"
   ]
  },
  {
   "cell_type": "markdown",
   "metadata": {},
   "source": [
    "# Alternatively\n",
    "\n",
    "Also consider hyper parameter tuning building the model\n",
    "\n",
    "Also consider using different algorithms such as XGboost\n"
   ]
  },
  {
   "cell_type": "markdown",
   "metadata": {},
   "source": [
    "## Scaling Amount and Time"
   ]
  },
  {
   "cell_type": "code",
   "execution_count": 130,
   "metadata": {},
   "outputs": [],
   "source": [
    "from scipy.stats import zscore"
   ]
  },
  {
   "cell_type": "code",
   "execution_count": 131,
   "metadata": {},
   "outputs": [
    {
     "data": {
      "application/javascript": [
       "\n",
       "        if (window._pyforest_update_imports_cell) { window._pyforest_update_imports_cell('import sklearn\\nimport pandas as pd\\nimport matplotlib.pyplot as plt\\nimport seaborn as sns\\nfrom sklearn import svm\\nimport numpy as np\\nfrom sklearn.model_selection import train_test_split\\nfrom sklearn.ensemble import RandomForestRegressor'); }\n",
       "    "
      ],
      "text/plain": [
       "<IPython.core.display.Javascript object>"
      ]
     },
     "metadata": {},
     "output_type": "display_data"
    }
   ],
   "source": [
    "data1 = pd.read_csv('creditcard.csv')"
   ]
  },
  {
   "cell_type": "code",
   "execution_count": 132,
   "metadata": {},
   "outputs": [],
   "source": [
    "X1 = data1.drop('Class',axis=1)\n",
    "y1 = data1['Class']"
   ]
  },
  {
   "cell_type": "code",
   "execution_count": 133,
   "metadata": {},
   "outputs": [],
   "source": [
    "ScaledA_T = X1[['Time','Amount']].apply(zscore) "
   ]
  },
  {
   "cell_type": "code",
   "execution_count": 134,
   "metadata": {},
   "outputs": [
    {
     "data": {
      "text/plain": [
       "pandas.core.frame.DataFrame"
      ]
     },
     "execution_count": 134,
     "metadata": {},
     "output_type": "execute_result"
    }
   ],
   "source": [
    "type(ScaledA_T)"
   ]
  },
  {
   "cell_type": "code",
   "execution_count": 135,
   "metadata": {},
   "outputs": [],
   "source": [
    "data1.drop(['Amount', 'Time'], axis=1, inplace=True)"
   ]
  },
  {
   "cell_type": "code",
   "execution_count": 136,
   "metadata": {},
   "outputs": [
    {
     "data": {
      "text/html": [
       "<div>\n",
       "<style scoped>\n",
       "    .dataframe tbody tr th:only-of-type {\n",
       "        vertical-align: middle;\n",
       "    }\n",
       "\n",
       "    .dataframe tbody tr th {\n",
       "        vertical-align: top;\n",
       "    }\n",
       "\n",
       "    .dataframe thead th {\n",
       "        text-align: right;\n",
       "    }\n",
       "</style>\n",
       "<table border=\"1\" class=\"dataframe\">\n",
       "  <thead>\n",
       "    <tr style=\"text-align: right;\">\n",
       "      <th></th>\n",
       "      <th>V1</th>\n",
       "      <th>V2</th>\n",
       "      <th>V3</th>\n",
       "      <th>V4</th>\n",
       "      <th>V5</th>\n",
       "      <th>V6</th>\n",
       "      <th>V7</th>\n",
       "      <th>V8</th>\n",
       "      <th>V9</th>\n",
       "      <th>V10</th>\n",
       "      <th>...</th>\n",
       "      <th>V20</th>\n",
       "      <th>V21</th>\n",
       "      <th>V22</th>\n",
       "      <th>V23</th>\n",
       "      <th>V24</th>\n",
       "      <th>V25</th>\n",
       "      <th>V26</th>\n",
       "      <th>V27</th>\n",
       "      <th>V28</th>\n",
       "      <th>Class</th>\n",
       "    </tr>\n",
       "  </thead>\n",
       "  <tbody>\n",
       "    <tr>\n",
       "      <th>0</th>\n",
       "      <td>-1.359807</td>\n",
       "      <td>-0.072781</td>\n",
       "      <td>2.536347</td>\n",
       "      <td>1.378155</td>\n",
       "      <td>-0.338321</td>\n",
       "      <td>0.462388</td>\n",
       "      <td>0.239599</td>\n",
       "      <td>0.098698</td>\n",
       "      <td>0.363787</td>\n",
       "      <td>0.090794</td>\n",
       "      <td>...</td>\n",
       "      <td>0.251412</td>\n",
       "      <td>-0.018307</td>\n",
       "      <td>0.277838</td>\n",
       "      <td>-0.110474</td>\n",
       "      <td>0.066928</td>\n",
       "      <td>0.128539</td>\n",
       "      <td>-0.189115</td>\n",
       "      <td>0.133558</td>\n",
       "      <td>-0.021053</td>\n",
       "      <td>0</td>\n",
       "    </tr>\n",
       "    <tr>\n",
       "      <th>1</th>\n",
       "      <td>1.191857</td>\n",
       "      <td>0.266151</td>\n",
       "      <td>0.166480</td>\n",
       "      <td>0.448154</td>\n",
       "      <td>0.060018</td>\n",
       "      <td>-0.082361</td>\n",
       "      <td>-0.078803</td>\n",
       "      <td>0.085102</td>\n",
       "      <td>-0.255425</td>\n",
       "      <td>-0.166974</td>\n",
       "      <td>...</td>\n",
       "      <td>-0.069083</td>\n",
       "      <td>-0.225775</td>\n",
       "      <td>-0.638672</td>\n",
       "      <td>0.101288</td>\n",
       "      <td>-0.339846</td>\n",
       "      <td>0.167170</td>\n",
       "      <td>0.125895</td>\n",
       "      <td>-0.008983</td>\n",
       "      <td>0.014724</td>\n",
       "      <td>0</td>\n",
       "    </tr>\n",
       "    <tr>\n",
       "      <th>2</th>\n",
       "      <td>-1.358354</td>\n",
       "      <td>-1.340163</td>\n",
       "      <td>1.773209</td>\n",
       "      <td>0.379780</td>\n",
       "      <td>-0.503198</td>\n",
       "      <td>1.800499</td>\n",
       "      <td>0.791461</td>\n",
       "      <td>0.247676</td>\n",
       "      <td>-1.514654</td>\n",
       "      <td>0.207643</td>\n",
       "      <td>...</td>\n",
       "      <td>0.524980</td>\n",
       "      <td>0.247998</td>\n",
       "      <td>0.771679</td>\n",
       "      <td>0.909412</td>\n",
       "      <td>-0.689281</td>\n",
       "      <td>-0.327642</td>\n",
       "      <td>-0.139097</td>\n",
       "      <td>-0.055353</td>\n",
       "      <td>-0.059752</td>\n",
       "      <td>0</td>\n",
       "    </tr>\n",
       "    <tr>\n",
       "      <th>3</th>\n",
       "      <td>-0.966272</td>\n",
       "      <td>-0.185226</td>\n",
       "      <td>1.792993</td>\n",
       "      <td>-0.863291</td>\n",
       "      <td>-0.010309</td>\n",
       "      <td>1.247203</td>\n",
       "      <td>0.237609</td>\n",
       "      <td>0.377436</td>\n",
       "      <td>-1.387024</td>\n",
       "      <td>-0.054952</td>\n",
       "      <td>...</td>\n",
       "      <td>-0.208038</td>\n",
       "      <td>-0.108300</td>\n",
       "      <td>0.005274</td>\n",
       "      <td>-0.190321</td>\n",
       "      <td>-1.175575</td>\n",
       "      <td>0.647376</td>\n",
       "      <td>-0.221929</td>\n",
       "      <td>0.062723</td>\n",
       "      <td>0.061458</td>\n",
       "      <td>0</td>\n",
       "    </tr>\n",
       "    <tr>\n",
       "      <th>4</th>\n",
       "      <td>-1.158233</td>\n",
       "      <td>0.877737</td>\n",
       "      <td>1.548718</td>\n",
       "      <td>0.403034</td>\n",
       "      <td>-0.407193</td>\n",
       "      <td>0.095921</td>\n",
       "      <td>0.592941</td>\n",
       "      <td>-0.270533</td>\n",
       "      <td>0.817739</td>\n",
       "      <td>0.753074</td>\n",
       "      <td>...</td>\n",
       "      <td>0.408542</td>\n",
       "      <td>-0.009431</td>\n",
       "      <td>0.798278</td>\n",
       "      <td>-0.137458</td>\n",
       "      <td>0.141267</td>\n",
       "      <td>-0.206010</td>\n",
       "      <td>0.502292</td>\n",
       "      <td>0.219422</td>\n",
       "      <td>0.215153</td>\n",
       "      <td>0</td>\n",
       "    </tr>\n",
       "  </tbody>\n",
       "</table>\n",
       "<p>5 rows × 29 columns</p>\n",
       "</div>"
      ],
      "text/plain": [
       "         V1        V2        V3        V4        V5        V6        V7  \\\n",
       "0 -1.359807 -0.072781  2.536347  1.378155 -0.338321  0.462388  0.239599   \n",
       "1  1.191857  0.266151  0.166480  0.448154  0.060018 -0.082361 -0.078803   \n",
       "2 -1.358354 -1.340163  1.773209  0.379780 -0.503198  1.800499  0.791461   \n",
       "3 -0.966272 -0.185226  1.792993 -0.863291 -0.010309  1.247203  0.237609   \n",
       "4 -1.158233  0.877737  1.548718  0.403034 -0.407193  0.095921  0.592941   \n",
       "\n",
       "         V8        V9       V10  ...       V20       V21       V22       V23  \\\n",
       "0  0.098698  0.363787  0.090794  ...  0.251412 -0.018307  0.277838 -0.110474   \n",
       "1  0.085102 -0.255425 -0.166974  ... -0.069083 -0.225775 -0.638672  0.101288   \n",
       "2  0.247676 -1.514654  0.207643  ...  0.524980  0.247998  0.771679  0.909412   \n",
       "3  0.377436 -1.387024 -0.054952  ... -0.208038 -0.108300  0.005274 -0.190321   \n",
       "4 -0.270533  0.817739  0.753074  ...  0.408542 -0.009431  0.798278 -0.137458   \n",
       "\n",
       "        V24       V25       V26       V27       V28  Class  \n",
       "0  0.066928  0.128539 -0.189115  0.133558 -0.021053      0  \n",
       "1 -0.339846  0.167170  0.125895 -0.008983  0.014724      0  \n",
       "2 -0.689281 -0.327642 -0.139097 -0.055353 -0.059752      0  \n",
       "3 -1.175575  0.647376 -0.221929  0.062723  0.061458      0  \n",
       "4  0.141267 -0.206010  0.502292  0.219422  0.215153      0  \n",
       "\n",
       "[5 rows x 29 columns]"
      ]
     },
     "execution_count": 136,
     "metadata": {},
     "output_type": "execute_result"
    }
   ],
   "source": [
    "data1.head()"
   ]
  },
  {
   "cell_type": "code",
   "execution_count": 137,
   "metadata": {},
   "outputs": [
    {
     "data": {
      "application/javascript": [
       "\n",
       "        if (window._pyforest_update_imports_cell) { window._pyforest_update_imports_cell('import sklearn\\nimport pandas as pd\\nimport matplotlib.pyplot as plt\\nimport seaborn as sns\\nfrom sklearn import svm\\nimport numpy as np\\nfrom sklearn.model_selection import train_test_split\\nfrom sklearn.ensemble import RandomForestRegressor'); }\n",
       "    "
      ],
      "text/plain": [
       "<IPython.core.display.Javascript object>"
      ]
     },
     "metadata": {},
     "output_type": "display_data"
    }
   ],
   "source": [
    "data2= pd.concat([data1,ScaledA_T],axis=1)"
   ]
  },
  {
   "cell_type": "code",
   "execution_count": 138,
   "metadata": {},
   "outputs": [
    {
     "data": {
      "text/html": [
       "<div>\n",
       "<style scoped>\n",
       "    .dataframe tbody tr th:only-of-type {\n",
       "        vertical-align: middle;\n",
       "    }\n",
       "\n",
       "    .dataframe tbody tr th {\n",
       "        vertical-align: top;\n",
       "    }\n",
       "\n",
       "    .dataframe thead th {\n",
       "        text-align: right;\n",
       "    }\n",
       "</style>\n",
       "<table border=\"1\" class=\"dataframe\">\n",
       "  <thead>\n",
       "    <tr style=\"text-align: right;\">\n",
       "      <th></th>\n",
       "      <th>V1</th>\n",
       "      <th>V2</th>\n",
       "      <th>V3</th>\n",
       "      <th>V4</th>\n",
       "      <th>V5</th>\n",
       "      <th>V6</th>\n",
       "      <th>V7</th>\n",
       "      <th>V8</th>\n",
       "      <th>V9</th>\n",
       "      <th>V10</th>\n",
       "      <th>...</th>\n",
       "      <th>V22</th>\n",
       "      <th>V23</th>\n",
       "      <th>V24</th>\n",
       "      <th>V25</th>\n",
       "      <th>V26</th>\n",
       "      <th>V27</th>\n",
       "      <th>V28</th>\n",
       "      <th>Class</th>\n",
       "      <th>Time</th>\n",
       "      <th>Amount</th>\n",
       "    </tr>\n",
       "  </thead>\n",
       "  <tbody>\n",
       "    <tr>\n",
       "      <th>0</th>\n",
       "      <td>-1.359807</td>\n",
       "      <td>-0.072781</td>\n",
       "      <td>2.536347</td>\n",
       "      <td>1.378155</td>\n",
       "      <td>-0.338321</td>\n",
       "      <td>0.462388</td>\n",
       "      <td>0.239599</td>\n",
       "      <td>0.098698</td>\n",
       "      <td>0.363787</td>\n",
       "      <td>0.090794</td>\n",
       "      <td>...</td>\n",
       "      <td>0.277838</td>\n",
       "      <td>-0.110474</td>\n",
       "      <td>0.066928</td>\n",
       "      <td>0.128539</td>\n",
       "      <td>-0.189115</td>\n",
       "      <td>0.133558</td>\n",
       "      <td>-0.021053</td>\n",
       "      <td>0</td>\n",
       "      <td>-1.996583</td>\n",
       "      <td>0.244964</td>\n",
       "    </tr>\n",
       "    <tr>\n",
       "      <th>1</th>\n",
       "      <td>1.191857</td>\n",
       "      <td>0.266151</td>\n",
       "      <td>0.166480</td>\n",
       "      <td>0.448154</td>\n",
       "      <td>0.060018</td>\n",
       "      <td>-0.082361</td>\n",
       "      <td>-0.078803</td>\n",
       "      <td>0.085102</td>\n",
       "      <td>-0.255425</td>\n",
       "      <td>-0.166974</td>\n",
       "      <td>...</td>\n",
       "      <td>-0.638672</td>\n",
       "      <td>0.101288</td>\n",
       "      <td>-0.339846</td>\n",
       "      <td>0.167170</td>\n",
       "      <td>0.125895</td>\n",
       "      <td>-0.008983</td>\n",
       "      <td>0.014724</td>\n",
       "      <td>0</td>\n",
       "      <td>-1.996583</td>\n",
       "      <td>-0.342475</td>\n",
       "    </tr>\n",
       "    <tr>\n",
       "      <th>2</th>\n",
       "      <td>-1.358354</td>\n",
       "      <td>-1.340163</td>\n",
       "      <td>1.773209</td>\n",
       "      <td>0.379780</td>\n",
       "      <td>-0.503198</td>\n",
       "      <td>1.800499</td>\n",
       "      <td>0.791461</td>\n",
       "      <td>0.247676</td>\n",
       "      <td>-1.514654</td>\n",
       "      <td>0.207643</td>\n",
       "      <td>...</td>\n",
       "      <td>0.771679</td>\n",
       "      <td>0.909412</td>\n",
       "      <td>-0.689281</td>\n",
       "      <td>-0.327642</td>\n",
       "      <td>-0.139097</td>\n",
       "      <td>-0.055353</td>\n",
       "      <td>-0.059752</td>\n",
       "      <td>0</td>\n",
       "      <td>-1.996562</td>\n",
       "      <td>1.160686</td>\n",
       "    </tr>\n",
       "    <tr>\n",
       "      <th>3</th>\n",
       "      <td>-0.966272</td>\n",
       "      <td>-0.185226</td>\n",
       "      <td>1.792993</td>\n",
       "      <td>-0.863291</td>\n",
       "      <td>-0.010309</td>\n",
       "      <td>1.247203</td>\n",
       "      <td>0.237609</td>\n",
       "      <td>0.377436</td>\n",
       "      <td>-1.387024</td>\n",
       "      <td>-0.054952</td>\n",
       "      <td>...</td>\n",
       "      <td>0.005274</td>\n",
       "      <td>-0.190321</td>\n",
       "      <td>-1.175575</td>\n",
       "      <td>0.647376</td>\n",
       "      <td>-0.221929</td>\n",
       "      <td>0.062723</td>\n",
       "      <td>0.061458</td>\n",
       "      <td>0</td>\n",
       "      <td>-1.996562</td>\n",
       "      <td>0.140534</td>\n",
       "    </tr>\n",
       "    <tr>\n",
       "      <th>4</th>\n",
       "      <td>-1.158233</td>\n",
       "      <td>0.877737</td>\n",
       "      <td>1.548718</td>\n",
       "      <td>0.403034</td>\n",
       "      <td>-0.407193</td>\n",
       "      <td>0.095921</td>\n",
       "      <td>0.592941</td>\n",
       "      <td>-0.270533</td>\n",
       "      <td>0.817739</td>\n",
       "      <td>0.753074</td>\n",
       "      <td>...</td>\n",
       "      <td>0.798278</td>\n",
       "      <td>-0.137458</td>\n",
       "      <td>0.141267</td>\n",
       "      <td>-0.206010</td>\n",
       "      <td>0.502292</td>\n",
       "      <td>0.219422</td>\n",
       "      <td>0.215153</td>\n",
       "      <td>0</td>\n",
       "      <td>-1.996541</td>\n",
       "      <td>-0.073403</td>\n",
       "    </tr>\n",
       "  </tbody>\n",
       "</table>\n",
       "<p>5 rows × 31 columns</p>\n",
       "</div>"
      ],
      "text/plain": [
       "         V1        V2        V3        V4        V5        V6        V7  \\\n",
       "0 -1.359807 -0.072781  2.536347  1.378155 -0.338321  0.462388  0.239599   \n",
       "1  1.191857  0.266151  0.166480  0.448154  0.060018 -0.082361 -0.078803   \n",
       "2 -1.358354 -1.340163  1.773209  0.379780 -0.503198  1.800499  0.791461   \n",
       "3 -0.966272 -0.185226  1.792993 -0.863291 -0.010309  1.247203  0.237609   \n",
       "4 -1.158233  0.877737  1.548718  0.403034 -0.407193  0.095921  0.592941   \n",
       "\n",
       "         V8        V9       V10  ...       V22       V23       V24       V25  \\\n",
       "0  0.098698  0.363787  0.090794  ...  0.277838 -0.110474  0.066928  0.128539   \n",
       "1  0.085102 -0.255425 -0.166974  ... -0.638672  0.101288 -0.339846  0.167170   \n",
       "2  0.247676 -1.514654  0.207643  ...  0.771679  0.909412 -0.689281 -0.327642   \n",
       "3  0.377436 -1.387024 -0.054952  ...  0.005274 -0.190321 -1.175575  0.647376   \n",
       "4 -0.270533  0.817739  0.753074  ...  0.798278 -0.137458  0.141267 -0.206010   \n",
       "\n",
       "        V26       V27       V28  Class      Time    Amount  \n",
       "0 -0.189115  0.133558 -0.021053      0 -1.996583  0.244964  \n",
       "1  0.125895 -0.008983  0.014724      0 -1.996583 -0.342475  \n",
       "2 -0.139097 -0.055353 -0.059752      0 -1.996562  1.160686  \n",
       "3 -0.221929  0.062723  0.061458      0 -1.996562  0.140534  \n",
       "4  0.502292  0.219422  0.215153      0 -1.996541 -0.073403  \n",
       "\n",
       "[5 rows x 31 columns]"
      ]
     },
     "execution_count": 138,
     "metadata": {},
     "output_type": "execute_result"
    }
   ],
   "source": [
    "data2.head()"
   ]
  },
  {
   "cell_type": "code",
   "execution_count": 139,
   "metadata": {},
   "outputs": [],
   "source": [
    "Xx = data2.drop('Class',axis=1)\n",
    "yy = data2['Class']"
   ]
  },
  {
   "cell_type": "code",
   "execution_count": 140,
   "metadata": {},
   "outputs": [
    {
     "data": {
      "application/javascript": [
       "\n",
       "        if (window._pyforest_update_imports_cell) { window._pyforest_update_imports_cell('import sklearn\\nimport pandas as pd\\nimport matplotlib.pyplot as plt\\nimport seaborn as sns\\nfrom sklearn import svm\\nimport numpy as np\\nfrom sklearn.model_selection import train_test_split\\nfrom sklearn.ensemble import RandomForestRegressor'); }\n",
       "    "
      ],
      "text/plain": [
       "<IPython.core.display.Javascript object>"
      ]
     },
     "metadata": {},
     "output_type": "display_data"
    }
   ],
   "source": [
    "Xx_train, Xx_test, yy_train, yy_test = train_test_split(Xx, yy, test_size=0.25, random_state=27) # setting up testing and training sets"
   ]
  },
  {
   "cell_type": "code",
   "execution_count": 141,
   "metadata": {},
   "outputs": [
    {
     "data": {
      "application/javascript": [
       "\n",
       "        if (window._pyforest_update_imports_cell) { window._pyforest_update_imports_cell('import sklearn\\nimport pandas as pd\\nimport matplotlib.pyplot as plt\\nimport seaborn as sns\\nfrom sklearn import svm\\nimport numpy as np\\nfrom sklearn.model_selection import train_test_split\\nfrom sklearn.ensemble import RandomForestRegressor'); }\n",
       "    "
      ],
      "text/plain": [
       "<IPython.core.display.Javascript object>"
      ]
     },
     "metadata": {},
     "output_type": "display_data"
    },
    {
     "data": {
      "text/html": [
       "<div>\n",
       "<style scoped>\n",
       "    .dataframe tbody tr th:only-of-type {\n",
       "        vertical-align: middle;\n",
       "    }\n",
       "\n",
       "    .dataframe tbody tr th {\n",
       "        vertical-align: top;\n",
       "    }\n",
       "\n",
       "    .dataframe thead th {\n",
       "        text-align: right;\n",
       "    }\n",
       "</style>\n",
       "<table border=\"1\" class=\"dataframe\">\n",
       "  <thead>\n",
       "    <tr style=\"text-align: right;\">\n",
       "      <th></th>\n",
       "      <th>V1</th>\n",
       "      <th>V2</th>\n",
       "      <th>V3</th>\n",
       "      <th>V4</th>\n",
       "      <th>V5</th>\n",
       "      <th>V6</th>\n",
       "      <th>V7</th>\n",
       "      <th>V8</th>\n",
       "      <th>V9</th>\n",
       "      <th>V10</th>\n",
       "      <th>...</th>\n",
       "      <th>V22</th>\n",
       "      <th>V23</th>\n",
       "      <th>V24</th>\n",
       "      <th>V25</th>\n",
       "      <th>V26</th>\n",
       "      <th>V27</th>\n",
       "      <th>V28</th>\n",
       "      <th>Time</th>\n",
       "      <th>Amount</th>\n",
       "      <th>Class</th>\n",
       "    </tr>\n",
       "  </thead>\n",
       "  <tbody>\n",
       "    <tr>\n",
       "      <th>264873</th>\n",
       "      <td>-0.395578</td>\n",
       "      <td>1.489129</td>\n",
       "      <td>-0.833442</td>\n",
       "      <td>-0.224271</td>\n",
       "      <td>0.369444</td>\n",
       "      <td>-1.453886</td>\n",
       "      <td>0.796593</td>\n",
       "      <td>-0.060403</td>\n",
       "      <td>0.338270</td>\n",
       "      <td>-0.343885</td>\n",
       "      <td>...</td>\n",
       "      <td>0.955194</td>\n",
       "      <td>-0.172092</td>\n",
       "      <td>-0.041050</td>\n",
       "      <td>-0.313444</td>\n",
       "      <td>-0.174301</td>\n",
       "      <td>0.064657</td>\n",
       "      <td>-0.036960</td>\n",
       "      <td>1.407093</td>\n",
       "      <td>-0.342275</td>\n",
       "      <td>0</td>\n",
       "    </tr>\n",
       "    <tr>\n",
       "      <th>163821</th>\n",
       "      <td>1.950487</td>\n",
       "      <td>0.002312</td>\n",
       "      <td>-1.761814</td>\n",
       "      <td>1.232470</td>\n",
       "      <td>0.523175</td>\n",
       "      <td>-0.650657</td>\n",
       "      <td>0.504231</td>\n",
       "      <td>-0.200857</td>\n",
       "      <td>0.116805</td>\n",
       "      <td>0.443750</td>\n",
       "      <td>...</td>\n",
       "      <td>0.326297</td>\n",
       "      <td>-0.068839</td>\n",
       "      <td>-0.416589</td>\n",
       "      <td>0.426044</td>\n",
       "      <td>-0.486299</td>\n",
       "      <td>-0.031266</td>\n",
       "      <td>-0.072543</td>\n",
       "      <td>0.451127</td>\n",
       "      <td>-0.199543</td>\n",
       "      <td>0</td>\n",
       "    </tr>\n",
       "    <tr>\n",
       "      <th>72083</th>\n",
       "      <td>1.105167</td>\n",
       "      <td>-0.166253</td>\n",
       "      <td>0.569520</td>\n",
       "      <td>0.681043</td>\n",
       "      <td>-0.259189</td>\n",
       "      <td>0.642792</td>\n",
       "      <td>-0.437034</td>\n",
       "      <td>0.356746</td>\n",
       "      <td>0.441417</td>\n",
       "      <td>-0.113006</td>\n",
       "      <td>...</td>\n",
       "      <td>0.293023</td>\n",
       "      <td>-0.028688</td>\n",
       "      <td>-0.242206</td>\n",
       "      <td>0.389813</td>\n",
       "      <td>0.482852</td>\n",
       "      <td>0.010705</td>\n",
       "      <td>-0.008399</td>\n",
       "      <td>-0.847726</td>\n",
       "      <td>-0.349231</td>\n",
       "      <td>0</td>\n",
       "    </tr>\n",
       "    <tr>\n",
       "      <th>196949</th>\n",
       "      <td>1.805238</td>\n",
       "      <td>0.961264</td>\n",
       "      <td>-1.717212</td>\n",
       "      <td>4.094625</td>\n",
       "      <td>0.938666</td>\n",
       "      <td>-0.227785</td>\n",
       "      <td>0.152911</td>\n",
       "      <td>0.066753</td>\n",
       "      <td>-1.073784</td>\n",
       "      <td>0.334537</td>\n",
       "      <td>...</td>\n",
       "      <td>-0.450959</td>\n",
       "      <td>0.098530</td>\n",
       "      <td>-0.662272</td>\n",
       "      <td>-0.150154</td>\n",
       "      <td>-0.098852</td>\n",
       "      <td>-0.000030</td>\n",
       "      <td>0.017622</td>\n",
       "      <td>0.778241</td>\n",
       "      <td>-0.201742</td>\n",
       "      <td>0</td>\n",
       "    </tr>\n",
       "    <tr>\n",
       "      <th>126213</th>\n",
       "      <td>0.835421</td>\n",
       "      <td>-1.191847</td>\n",
       "      <td>0.578455</td>\n",
       "      <td>0.586101</td>\n",
       "      <td>-1.236663</td>\n",
       "      <td>0.194617</td>\n",
       "      <td>-0.532404</td>\n",
       "      <td>0.061561</td>\n",
       "      <td>-0.734344</td>\n",
       "      <td>0.754427</td>\n",
       "      <td>...</td>\n",
       "      <td>-0.109154</td>\n",
       "      <td>-0.308356</td>\n",
       "      <td>0.011968</td>\n",
       "      <td>0.461350</td>\n",
       "      <td>-0.244810</td>\n",
       "      <td>0.031845</td>\n",
       "      <td>0.060910</td>\n",
       "      <td>-0.354928</td>\n",
       "      <td>0.594317</td>\n",
       "      <td>0</td>\n",
       "    </tr>\n",
       "  </tbody>\n",
       "</table>\n",
       "<p>5 rows × 31 columns</p>\n",
       "</div>"
      ],
      "text/plain": [
       "              V1        V2        V3        V4        V5        V6        V7  \\\n",
       "264873 -0.395578  1.489129 -0.833442 -0.224271  0.369444 -1.453886  0.796593   \n",
       "163821  1.950487  0.002312 -1.761814  1.232470  0.523175 -0.650657  0.504231   \n",
       "72083   1.105167 -0.166253  0.569520  0.681043 -0.259189  0.642792 -0.437034   \n",
       "196949  1.805238  0.961264 -1.717212  4.094625  0.938666 -0.227785  0.152911   \n",
       "126213  0.835421 -1.191847  0.578455  0.586101 -1.236663  0.194617 -0.532404   \n",
       "\n",
       "              V8        V9       V10  ...       V22       V23       V24  \\\n",
       "264873 -0.060403  0.338270 -0.343885  ...  0.955194 -0.172092 -0.041050   \n",
       "163821 -0.200857  0.116805  0.443750  ...  0.326297 -0.068839 -0.416589   \n",
       "72083   0.356746  0.441417 -0.113006  ...  0.293023 -0.028688 -0.242206   \n",
       "196949  0.066753 -1.073784  0.334537  ... -0.450959  0.098530 -0.662272   \n",
       "126213  0.061561 -0.734344  0.754427  ... -0.109154 -0.308356  0.011968   \n",
       "\n",
       "             V25       V26       V27       V28      Time    Amount  Class  \n",
       "264873 -0.313444 -0.174301  0.064657 -0.036960  1.407093 -0.342275      0  \n",
       "163821  0.426044 -0.486299 -0.031266 -0.072543  0.451127 -0.199543      0  \n",
       "72083   0.389813  0.482852  0.010705 -0.008399 -0.847726 -0.349231      0  \n",
       "196949 -0.150154 -0.098852 -0.000030  0.017622  0.778241 -0.201742      0  \n",
       "126213  0.461350 -0.244810  0.031845  0.060910 -0.354928  0.594317      0  \n",
       "\n",
       "[5 rows x 31 columns]"
      ]
     },
     "execution_count": 141,
     "metadata": {},
     "output_type": "execute_result"
    }
   ],
   "source": [
    "# concatenate our training data back together\n",
    "X2 = pd.concat([Xx_train, yy_train], axis=1)\n",
    "X2.head()"
   ]
  },
  {
   "cell_type": "code",
   "execution_count": 142,
   "metadata": {},
   "outputs": [],
   "source": [
    "from sklearn.dummy import DummyClassifier"
   ]
  },
  {
   "cell_type": "code",
   "execution_count": 144,
   "metadata": {},
   "outputs": [
    {
     "data": {
      "application/javascript": [
       "\n",
       "        if (window._pyforest_update_imports_cell) { window._pyforest_update_imports_cell('import sklearn\\nimport pandas as pd\\nimport matplotlib.pyplot as plt\\nimport seaborn as sns\\nfrom sklearn import svm\\nimport numpy as np\\nfrom sklearn.model_selection import train_test_split\\nfrom sklearn.ensemble import RandomForestRegressor'); }\n",
       "    "
      ],
      "text/plain": [
       "<IPython.core.display.Javascript object>"
      ]
     },
     "metadata": {},
     "output_type": "display_data"
    },
    {
     "name": "stdout",
     "output_type": "stream",
     "text": [
      "Unique predicted labels:  [0]\n",
      "Test score:  0.9981461194910255\n"
     ]
    }
   ],
   "source": [
    "# DummyClassifier to predict only target 0\n",
    "dummy = DummyClassifier(strategy='most_frequent').fit(Xx_train, yy_train)\n",
    "dummy_pred = dummy.predict(Xx_test)\n",
    "\n",
    "# checking unique labels\n",
    "print('Unique predicted labels: ', np.unique(dummy_pred))\n",
    "\n",
    "# checking accuracy\n",
    "print('Test score: ', accuracy_score(yy_test, dummy_pred))"
   ]
  },
  {
   "cell_type": "code",
   "execution_count": 145,
   "metadata": {},
   "outputs": [
    {
     "data": {
      "application/javascript": [
       "\n",
       "        if (window._pyforest_update_imports_cell) { window._pyforest_update_imports_cell('import sklearn\\nimport pandas as pd\\nimport matplotlib.pyplot as plt\\nimport seaborn as sns\\nfrom sklearn import svm\\nimport numpy as np\\nfrom sklearn.model_selection import train_test_split\\nfrom sklearn.ensemble import RandomForestRegressor'); }\n",
       "    "
      ],
      "text/plain": [
       "<IPython.core.display.Javascript object>"
      ]
     },
     "metadata": {},
     "output_type": "display_data"
    },
    {
     "data": {
      "text/plain": [
       "1    213245\n",
       "0    213245\n",
       "Name: Class, dtype: int64"
      ]
     },
     "execution_count": 145,
     "metadata": {},
     "output_type": "execute_result"
    }
   ],
   "source": [
    "# separate minority and majority classes\n",
    "not_fraud1 = X2[X2.Class==0]\n",
    "fraud1 = X2[X2.Class==1]\n",
    "\n",
    "# upsample minority\n",
    "fraud_upsampled1 = resample(fraud1,\n",
    "                          replace=True, # sample with replacement\n",
    "                          n_samples=len(not_fraud1), # match number in majority class\n",
    "                          random_state=27) # reproducible results\n",
    "\n",
    "# combine majority and upsampled minority\n",
    "upsampled1 = pd.concat([not_fraud1, fraud_upsampled1])\n",
    "\n",
    "# check new class counts\n",
    "upsampled1.Class.value_counts()"
   ]
  },
  {
   "cell_type": "code",
   "execution_count": 148,
   "metadata": {},
   "outputs": [],
   "source": [
    "# trying logistic regression with the balanced dataset\n",
    "\n",
    "from sklearn.linear_model import LogisticRegression\n",
    "\n",
    "C_train = upsampled1.Class\n",
    "noC_train = upsampled1.drop('Class', axis=1)\n",
    "\n",
    "upsampled2 = LogisticRegression(solver='liblinear').fit(noC_train, C_train)\n",
    "\n",
    "upsampled_pred1 = upsampled2.predict(Xx_test)"
   ]
  },
  {
   "cell_type": "code",
   "execution_count": 149,
   "metadata": {},
   "outputs": [
    {
     "data": {
      "text/plain": [
       "0.9783573495126542"
      ]
     },
     "execution_count": 149,
     "metadata": {},
     "output_type": "execute_result"
    }
   ],
   "source": [
    "# Checking accuracy\n",
    "accuracy_score(yy_test, upsampled_pred1)"
   ]
  },
  {
   "cell_type": "code",
   "execution_count": 150,
   "metadata": {},
   "outputs": [
    {
     "data": {
      "application/javascript": [
       "\n",
       "        if (window._pyforest_update_imports_cell) { window._pyforest_update_imports_cell('import sklearn\\nimport pandas as pd\\nimport matplotlib.pyplot as plt\\nimport seaborn as sns\\nfrom sklearn import svm\\nimport numpy as np\\nfrom sklearn.model_selection import train_test_split\\nfrom sklearn.ensemble import RandomForestRegressor'); }\n",
       "    "
      ],
      "text/plain": [
       "<IPython.core.display.Javascript object>"
      ]
     },
     "metadata": {},
     "output_type": "display_data"
    },
    {
     "data": {
      "text/plain": [
       "1    360\n",
       "0    360\n",
       "Name: Class, dtype: int64"
      ]
     },
     "execution_count": 150,
     "metadata": {},
     "output_type": "execute_result"
    }
   ],
   "source": [
    "# still using our separated classes fraud and not_fraud from above\n",
    "\n",
    "# downsample majority\n",
    "not_fraud_downsampled1 = resample(not_fraud1,\n",
    "                                replace = False, # sample without replacement\n",
    "                                n_samples = len(fraud1), # match minority n\n",
    "                                random_state = 27) # reproducible results\n",
    "\n",
    "# combine minority and downsampled majority\n",
    "downsampled1 = pd.concat([not_fraud_downsampled1, fraud1])\n",
    "\n",
    "# checking counts\n",
    "downsampled1.Class.value_counts()"
   ]
  },
  {
   "cell_type": "code",
   "execution_count": 152,
   "metadata": {},
   "outputs": [],
   "source": [
    "# trying logistic regression again with the undersampled dataset\n",
    "\n",
    "y12_train = downsampled1.Class\n",
    "X12_train = downsampled1.drop('Class', axis=1)\n",
    "\n",
    "undersampled1 = LogisticRegression(solver='liblinear').fit(X12_train, y12_train)\n",
    "\n",
    "undersampled_pred1 = undersampled1.predict(Xx_test)"
   ]
  },
  {
   "cell_type": "code",
   "execution_count": 153,
   "metadata": {},
   "outputs": [
    {
     "data": {
      "text/plain": [
       "array([0, 0, 1, ..., 0, 0, 0], dtype=int64)"
      ]
     },
     "execution_count": 153,
     "metadata": {},
     "output_type": "execute_result"
    }
   ],
   "source": [
    "undersampled_pred1"
   ]
  },
  {
   "cell_type": "code",
   "execution_count": 154,
   "metadata": {},
   "outputs": [
    {
     "data": {
      "text/plain": [
       "0.9650571613156934"
      ]
     },
     "execution_count": 154,
     "metadata": {},
     "output_type": "execute_result"
    }
   ],
   "source": [
    "# Checking accuracy\n",
    "accuracy_score(yy_test, undersampled_pred1)"
   ]
  },
  {
   "cell_type": "code",
   "execution_count": null,
   "metadata": {},
   "outputs": [],
   "source": []
  }
 ],
 "metadata": {
  "kernelspec": {
   "display_name": "Python 3",
   "language": "python",
   "name": "python3"
  },
  "language_info": {
   "codemirror_mode": {
    "name": "ipython",
    "version": 3
   },
   "file_extension": ".py",
   "mimetype": "text/x-python",
   "name": "python",
   "nbconvert_exporter": "python",
   "pygments_lexer": "ipython3",
   "version": "3.7.6"
  }
 },
 "nbformat": 4,
 "nbformat_minor": 4
}
